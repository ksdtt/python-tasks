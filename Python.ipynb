{
  "nbformat": 4,
  "nbformat_minor": 0,
  "metadata": {
    "colab": {
      "provenance": [],
      "collapsed_sections": [
        "iNHN8PrxWvTC",
        "TjmAeUYE6NWM",
        "4Yu5tLhOq20Y",
        "VOyxjEGaTjcK"
      ]
    },
    "kernelspec": {
      "name": "python3",
      "display_name": "Python 3"
    },
    "language_info": {
      "name": "python"
    }
  },
  "cells": [
    {
      "cell_type": "markdown",
      "source": [
        "# **Основные алгоритмические конструкции**"
      ],
      "metadata": {
        "id": "HVveSkktT9jg"
      }
    },
    {
      "cell_type": "markdown",
      "source": [
        "**№1**\n",
        "\n",
        "Дано натуральное трехзначное число N. Определить сумму и произведение его цифр."
      ],
      "metadata": {
        "id": "-BJy0rIXIaOt"
      }
    },
    {
      "cell_type": "code",
      "source": [
        "N = int(input())\n",
        "summ = N % 1000 // 100 + N % 100 //10 +(N % 10) % 10\n",
        "p = (N % 1000 // 100) * (N % 100 //10) * (N % 10 % 10)\n",
        "print(summ, p, sep='\\n')"
      ],
      "metadata": {
        "id": "wghF5NyqT37Z",
        "colab": {
          "base_uri": "https://localhost:8080/"
        },
        "outputId": "e6d79240-1f8f-4f3a-80a1-dea3a3aa48f1"
      },
      "execution_count": null,
      "outputs": [
        {
          "output_type": "stream",
          "name": "stdout",
          "text": [
            "111\n",
            "3\n",
            "1\n"
          ]
        }
      ]
    },
    {
      "cell_type": "markdown",
      "source": [
        "**№2**\n",
        "\n",
        "Одноклеточная амеба каждые 3 часа делится на 2 клетки. Определите, сколько амеб будет через N часов."
      ],
      "metadata": {
        "id": "Zk2xUmHMIrwA"
      }
    },
    {
      "cell_type": "code",
      "source": [
        "print(2**(int(input())//3))"
      ],
      "metadata": {
        "colab": {
          "base_uri": "https://localhost:8080/"
        },
        "id": "orw1boPmNAQf",
        "outputId": "71559906-ccca-4f6e-a2b3-e914769623c5"
      },
      "execution_count": null,
      "outputs": [
        {
          "output_type": "stream",
          "name": "stdout",
          "text": [
            "9\n",
            "8\n"
          ]
        }
      ]
    },
    {
      "cell_type": "markdown",
      "source": [
        "**№3**\n",
        "\n",
        "Год високосный, если для номера этого года верно хотя бы одно из утверждений:\n",
        "\n",
        "- делится на 4, но при этом не делится на 100;\n",
        "\n",
        "- делится на 400.\n",
        "\n",
        "Выведите количество дней в феврале года **y**."
      ],
      "metadata": {
        "id": "_oKyZIA0Ir--"
      }
    },
    {
      "cell_type": "code",
      "source": [
        "y = int(input())\n",
        "if (y % 4 ==0 and y % 100 != 0) or y % 400 == 0:\n",
        "    print(29)\n",
        "else:\n",
        "    print(28)"
      ],
      "metadata": {
        "colab": {
          "base_uri": "https://localhost:8080/"
        },
        "id": "ae7VOhILNGbs",
        "outputId": "8d775ad0-8f8b-4056-b00f-1e2ab172dfc6"
      },
      "execution_count": null,
      "outputs": [
        {
          "output_type": "stream",
          "name": "stdout",
          "text": [
            "2013\n",
            "28\n"
          ]
        }
      ]
    },
    {
      "cell_type": "markdown",
      "source": [
        "**№4**\n",
        "\n",
        "Для введенного натурального числа k напечатайте фразу:\n",
        "\n",
        "Мне k лет\n",
        "\n",
        "Учтите, что при некоторых значениях k слово \"лет\" надо заменить на слово \"год\" или \"года\"."
      ],
      "metadata": {
        "id": "jgvaBxcOIsFb"
      }
    },
    {
      "cell_type": "code",
      "source": [
        "k = int(input())\n",
        "if k % 10 == 1 and k != 11 and k != 111:\n",
        "    print(f'Мне {k} год')\n",
        "elif 2 <= k % 10 <= 4 and k not in [12,13,14,112,113,114]:\n",
        "    print(f'Мне {k} года')\n",
        "else:\n",
        "    print(f'Мне {k} лет')"
      ],
      "metadata": {
        "colab": {
          "base_uri": "https://localhost:8080/"
        },
        "id": "-rnIwk4dNJ84",
        "outputId": "f4be57e8-f23c-40a3-b8d4-7fb7f188eb1e"
      },
      "execution_count": null,
      "outputs": [
        {
          "output_type": "stream",
          "name": "stdout",
          "text": [
            "21\n",
            "Мне 21 год\n"
          ]
        }
      ]
    },
    {
      "cell_type": "markdown",
      "source": [
        "**№5**\n",
        "\n",
        "Дана последовательность вещественных чисел Ai, в которой первый член неотрицателен, а также присутствует хотя бы один член, меньший нуля. Необходимо найти произведение всех элементов последовательности, предшествующих первому отрицательному члену. Пусть n — номер первого отрицательного члена последовательности. Тогда вы должны вычислить:\n",
        "S=A1⋅A2⋅⋯⋅An−1"
      ],
      "metadata": {
        "id": "YhqP7ySDIsJj"
      }
    },
    {
      "cell_type": "code",
      "source": [
        "x = float(input())\n",
        "s = 1.0000\n",
        "while x > 0:\n",
        "    s *= x\n",
        "    x = float(input())\n",
        "print(\"{:f}\".format(s))"
      ],
      "metadata": {
        "colab": {
          "base_uri": "https://localhost:8080/"
        },
        "id": "ic5vObpINNHf",
        "outputId": "8ea5b0a0-de2d-4f7b-f4a8-6bc0c26450d8"
      },
      "execution_count": null,
      "outputs": [
        {
          "output_type": "stream",
          "name": "stdout",
          "text": [
            "1.000000\n",
            "2.500000\n",
            "-3.000000\n",
            "2.500000\n"
          ]
        }
      ]
    },
    {
      "cell_type": "markdown",
      "source": [
        "**№6**\n",
        "\n",
        "Задана последовательность из N целых чисел. Необходимо найти порядковый номер числа с максимальным модулем. Если таких чисел несколько, вывести наибольший номер.\n"
      ],
      "metadata": {
        "id": "AoVULJB5IsWh"
      }
    },
    {
      "cell_type": "code",
      "source": [
        "N = int(input())\n",
        "m = 0\n",
        "for i in range(N):\n",
        "    n = int(input())\n",
        "    if abs(n) >= m:\n",
        "        m = abs(n)\n",
        "        k = i\n",
        "print(k+1)"
      ],
      "metadata": {
        "colab": {
          "base_uri": "https://localhost:8080/"
        },
        "id": "Beq_k6bTNUNP",
        "outputId": "05a51c01-4a43-4430-e38b-12e8cd061e7e"
      },
      "execution_count": null,
      "outputs": [
        {
          "output_type": "stream",
          "name": "stdout",
          "text": [
            "5\n",
            "1\n",
            "-2\n",
            "-8\n",
            "0\n",
            "8\n",
            "5\n"
          ]
        }
      ]
    },
    {
      "cell_type": "markdown",
      "source": [
        "**№7**\n",
        "\n",
        "В первый весенний день на березе распустилось A листьев, а в каждый последующий в 3 раза больше, чем в предыдущий. В какой день на дереве распустится не менее B листьев за один день? Через сколько дней на дереве будет как минимум 1000000 листьев?\n"
      ],
      "metadata": {
        "id": "aATq7puzJJRr"
      }
    },
    {
      "cell_type": "code",
      "source": [
        "from math import log, ceil\n",
        "\n",
        "A, B = map(int, input().split())\n",
        "a1 = A\n",
        "k = max(ceil(log(B/A,3)),0)+1\n",
        "\n",
        "summ = a1\n",
        "day = 1\n",
        "while summ < 1000000:\n",
        "    a1 *= 3\n",
        "    summ += a1\n",
        "    day += 1\n",
        "print(k, day)"
      ],
      "metadata": {
        "colab": {
          "base_uri": "https://localhost:8080/"
        },
        "id": "vXePcZrZNYGw",
        "outputId": "a211d15d-1413-411f-abae-52aba3a728d4"
      },
      "execution_count": null,
      "outputs": [
        {
          "output_type": "stream",
          "name": "stdout",
          "text": [
            "2 18\n",
            "3 13\n"
          ]
        }
      ]
    },
    {
      "cell_type": "markdown",
      "source": [
        "**№8**\n",
        "\n",
        "Дано натуральное число N. Определить, является ли оно простым.\n",
        "\n"
      ],
      "metadata": {
        "id": "EnKkJArtJJbi"
      }
    },
    {
      "cell_type": "code",
      "source": [
        "N = int(input())\n",
        "flag = 0\n",
        "for i in range(2, int(N/2)+1,1):\n",
        "    if N % i == 0:\n",
        "        flag = 1\n",
        "        break\n",
        "print(\"No\" if flag==1 else \"Yes\")"
      ],
      "metadata": {
        "colab": {
          "base_uri": "https://localhost:8080/"
        },
        "id": "bllvB23vNdoZ",
        "outputId": "531c16e0-1d28-4c0e-babf-f2867a515ccf"
      },
      "execution_count": null,
      "outputs": [
        {
          "output_type": "stream",
          "name": "stdout",
          "text": [
            "117\n",
            "No\n"
          ]
        }
      ]
    },
    {
      "cell_type": "markdown",
      "source": [
        "# **Строки и списки**"
      ],
      "metadata": {
        "id": "Bho5LbvXJYT-"
      }
    },
    {
      "cell_type": "markdown",
      "source": [
        "**№1**\n",
        "\n",
        "Дано слово. Добавить к нему в начала и конце столько звёздочек, сколько букв в этом слове."
      ],
      "metadata": {
        "id": "f4d7PyN5Jh5L"
      }
    },
    {
      "cell_type": "code",
      "source": [
        "s = input()\n",
        "print('*'*len(s)+s+'*'*len(s))"
      ],
      "metadata": {
        "colab": {
          "base_uri": "https://localhost:8080/"
        },
        "id": "vZJneLJVNpG0",
        "outputId": "608d1e19-146d-4012-a9eb-54e7e025a086"
      },
      "execution_count": null,
      "outputs": [
        {
          "output_type": "stream",
          "name": "stdout",
          "text": [
            "word\n",
            "****word****\n"
          ]
        }
      ]
    },
    {
      "cell_type": "markdown",
      "source": [
        "**№2**\n",
        "\n",
        "Дана строка, в которой имеются цифры. Найти их сумму."
      ],
      "metadata": {
        "id": "UwdkZs_bJh5M"
      }
    },
    {
      "cell_type": "code",
      "source": [
        "import re\n",
        "\n",
        "\n",
        "s = input()\n",
        "digits = re.findall(\"\\d\", s)\n",
        "d = [int(x) for x in digits]\n",
        "print(sum(d))\n"
      ],
      "metadata": {
        "colab": {
          "base_uri": "https://localhost:8080/",
          "height": 244
        },
        "id": "rapaMRuUNpfL",
        "outputId": "ec4a8147-a535-48cc-afef-c1ee745e1e6d"
      },
      "execution_count": 34,
      "outputs": [
        {
          "output_type": "error",
          "ename": "TypeError",
          "evalue": "ignored",
          "traceback": [
            "\u001b[0;31m---------------------------------------------------------------------------\u001b[0m",
            "\u001b[0;31mTypeError\u001b[0m                                 Traceback (most recent call last)",
            "\u001b[0;32m<ipython-input-34-dba9655369d7>\u001b[0m in \u001b[0;36m<module>\u001b[0;34m\u001b[0m\n\u001b[1;32m      1\u001b[0m \u001b[0;32mimport\u001b[0m \u001b[0mre\u001b[0m\u001b[0;34m\u001b[0m\u001b[0;34m\u001b[0m\u001b[0m\n\u001b[1;32m      2\u001b[0m \u001b[0;34m\u001b[0m\u001b[0m\n\u001b[0;32m----> 3\u001b[0;31m \u001b[0mprint\u001b[0m\u001b[0;34m(\u001b[0m\u001b[0msum\u001b[0m\u001b[0;34m(\u001b[0m\u001b[0;34m[\u001b[0m\u001b[0;36m1\u001b[0m\u001b[0;34m,\u001b[0m\u001b[0;36m2\u001b[0m\u001b[0;34m,\u001b[0m\u001b[0;36m3\u001b[0m\u001b[0;34m]\u001b[0m\u001b[0;34m)\u001b[0m\u001b[0;34m)\u001b[0m\u001b[0;34m\u001b[0m\u001b[0;34m\u001b[0m\u001b[0m\n\u001b[0m\u001b[1;32m      4\u001b[0m \u001b[0ms\u001b[0m \u001b[0;34m=\u001b[0m \u001b[0minput\u001b[0m\u001b[0;34m(\u001b[0m\u001b[0;34m)\u001b[0m\u001b[0;34m\u001b[0m\u001b[0;34m\u001b[0m\u001b[0m\n\u001b[1;32m      5\u001b[0m \u001b[0mdigits\u001b[0m \u001b[0;34m=\u001b[0m \u001b[0mre\u001b[0m\u001b[0;34m.\u001b[0m\u001b[0mfindall\u001b[0m\u001b[0;34m(\u001b[0m\u001b[0;34m\"\\d\"\u001b[0m\u001b[0;34m,\u001b[0m \u001b[0ms\u001b[0m\u001b[0;34m)\u001b[0m\u001b[0;34m\u001b[0m\u001b[0;34m\u001b[0m\u001b[0m\n",
            "\u001b[0;31mTypeError\u001b[0m: 'int' object is not callable"
          ]
        }
      ]
    },
    {
      "cell_type": "markdown",
      "source": [
        "**№3**\n",
        "\n",
        "Дано слово s1. Получить слово s2, образованное четными буквами слова s1, записанными в обратном порядке."
      ],
      "metadata": {
        "id": "fnSAXPELJh5M"
      }
    },
    {
      "cell_type": "code",
      "source": [
        "s1 = input()\n",
        "print(s1[1::2][::-1])"
      ],
      "metadata": {
        "id": "_M4NcLqMNp9s"
      },
      "execution_count": null,
      "outputs": []
    },
    {
      "cell_type": "markdown",
      "source": [
        "**№4**\n",
        "\n",
        "В строке имеется несколько слов, разделенных одним или несколькими пробелами. Требуется убрать из строки лишние пробелы: два и более пробелов подряд, а также все пробелы в начале и в конце строки.\n"
      ],
      "metadata": {
        "id": "Vn5Nw7VnJh5M"
      }
    },
    {
      "cell_type": "code",
      "source": [
        "s = input()\n",
        "print(\" \".join(s.split()))"
      ],
      "metadata": {
        "id": "NolIgRdwNqS0"
      },
      "execution_count": null,
      "outputs": []
    },
    {
      "cell_type": "markdown",
      "source": [
        "**№5**\n",
        "\n",
        "Дан одномерный массив, состоящий из N целочисленных элементов. Увеличить все его элементы в k раз."
      ],
      "metadata": {
        "id": "IedBa0YCJh5M"
      }
    },
    {
      "cell_type": "code",
      "source": [
        "N = int(input())\n",
        "n = []\n",
        "for i in range(N):\n",
        "    n.append(int(input()))\n",
        "k = int(input())\n",
        "n = [k*x for x in n]\n",
        "print(*n)"
      ],
      "metadata": {
        "id": "z7OjRK_ZNqvL"
      },
      "execution_count": null,
      "outputs": []
    },
    {
      "cell_type": "markdown",
      "source": [
        "**№6**\n",
        "\n",
        "Дан массив целых чисел из N элементов. Необходимо заменить максимальный элемент на противоположный по знаку. Если элементов с максимальным значением несколько, замените только первый из них."
      ],
      "metadata": {
        "id": "758AOZp1Jh5M"
      }
    },
    {
      "cell_type": "code",
      "source": [
        "N = int(input())\n",
        "n = input().split()\n",
        "n = [int(x) for x in n]\n",
        "m = n[0]\n",
        "k = 0\n",
        "for i in range(N):\n",
        "    if n[i] > m:\n",
        "        m = n[i]\n",
        "        k = i\n",
        "n[k] = 0 - m\n",
        "print(*n)"
      ],
      "metadata": {
        "id": "vD9otxugNrUP"
      },
      "execution_count": null,
      "outputs": []
    },
    {
      "cell_type": "markdown",
      "source": [
        "**№7**\n",
        "\n",
        "Задан набор из N целых чисел. Найти сумму тех из них, которые заканчиваются на цифру K и при этом не кратны числу M. Исходно сумма полагается равной нулю.\n",
        "\n"
      ],
      "metadata": {
        "id": "Xo9Yl9GiJh5M"
      }
    },
    {
      "cell_type": "code",
      "source": [
        "N, M, K = map(int, input().split())\n",
        "n = input().split()\n",
        "summ = 0\n",
        "for i in range(N):\n",
        "    if int(n[i][-1]) == K and int(n[i]) % M != 0:\n",
        "        summ += int(n[i])\n",
        "print(summ)"
      ],
      "metadata": {
        "id": "Z2J_s-FaNryT"
      },
      "execution_count": null,
      "outputs": []
    },
    {
      "cell_type": "markdown",
      "source": [
        "**№8**\n",
        "\n",
        "Дан признак геометрической фигуры на плоскости: k — круг, p — прямоугольник, t — треугольник. Вывести на экран периметр и площадь заданной фигуры.\n",
        "\n"
      ],
      "metadata": {
        "id": "tiHe5v2tJh5M"
      }
    },
    {
      "cell_type": "code",
      "source": [
        "from math import pi, sqrt\n",
        "\n",
        "param = input().split()\n",
        "fig = param[0]\n",
        "if fig == 'k':\n",
        "    r = float(param[-1])\n",
        "    P = 2*pi*r\n",
        "    S = pi*r*r\n",
        "elif fig == 't':\n",
        "    a,b,c = float(param[1]), float(param[2]), float(param[3])\n",
        "    P = a+b+c\n",
        "    p  = P/2\n",
        "    S = sqrt(p*(p-a)*(p-b)*(p-c))\n",
        "else: \n",
        "    a,b = float(param[1]), float(param[2])\n",
        "    P = 2*(a+b)\n",
        "    S = a*b\n",
        "print(round(P,4),round(S,4))"
      ],
      "metadata": {
        "id": "7vft2U9YNsM0"
      },
      "execution_count": null,
      "outputs": []
    },
    {
      "cell_type": "markdown",
      "source": [
        "# **Множества и словари**"
      ],
      "metadata": {
        "id": "cQTzuFPWJoot"
      }
    },
    {
      "cell_type": "markdown",
      "source": [
        "**№1**\n",
        "\n",
        "Дана строка. Определить, сколько различных букв в ней без учета регистра."
      ],
      "metadata": {
        "id": "AVphUopwJoou"
      }
    },
    {
      "cell_type": "code",
      "source": [
        "print(len(set(input().lower())))"
      ],
      "metadata": {
        "id": "k_XD3yBrOwHu"
      },
      "execution_count": null,
      "outputs": []
    },
    {
      "cell_type": "markdown",
      "source": [
        "**№2**\n",
        "\n",
        "Дано натуральное четырехзначное число. Определить, повторяются ли какие-либо цифры в записи данного числа.\n"
      ],
      "metadata": {
        "id": "TGgKAZr3Joou"
      }
    },
    {
      "cell_type": "code",
      "source": [
        "print(\"NO\" if len(set(input()))==4 else \"YES\")"
      ],
      "metadata": {
        "id": "e3eviSQkOwhG"
      },
      "execution_count": null,
      "outputs": []
    },
    {
      "cell_type": "markdown",
      "source": [
        "**№3**\n",
        "\n",
        "Даны две строки. Определить, можно ли из букв первой строки получить вторую строку. Повторяющиеся буквы второй строки могут в первой строке не повторяться."
      ],
      "metadata": {
        "id": "jQTYRyQ6Joou"
      }
    },
    {
      "cell_type": "code",
      "source": [
        "s1 = set(input())\n",
        "s2 = set(input())\n",
        "print(s2.issubset(s1))"
      ],
      "metadata": {
        "id": "iI_h713WOw2-"
      },
      "execution_count": null,
      "outputs": []
    },
    {
      "cell_type": "markdown",
      "source": [
        "**№4**\n",
        "\n",
        "Дан одномерный массив, элементы которого — целые числа. Удалите из него все элементы, в записи которых все цифры различны."
      ],
      "metadata": {
        "id": "PlsQkUESJoou"
      }
    },
    {
      "cell_type": "code",
      "source": [
        "N = int(input())\n",
        "n = input().split()\n",
        "m = []\n",
        "for i in range(N):\n",
        "    if len(n[i]) != len(set(n[i])):\n",
        "        m.append(n[i])\n",
        "print(*m)"
      ],
      "metadata": {
        "id": "OEj2IUIPOy0u"
      },
      "execution_count": null,
      "outputs": []
    },
    {
      "cell_type": "markdown",
      "source": [
        "**№5**\n",
        "\n",
        "Дана буква английского алфавита. Если это I, V, X, L, C, D, M, то выдать десятичное значение данной римской цифры, иначе вывести число 0."
      ],
      "metadata": {
        "id": "UMWKW5tzJoou"
      }
    },
    {
      "cell_type": "code",
      "source": [
        "d = {'I': 1,\n",
        "     \"V\": 5, \n",
        "     \"X\": 10, \n",
        "     \"L\": 50, \n",
        "     \"C\": 100, \n",
        "     \"D\": 500, \n",
        "     \"M\": 1000\n",
        "}\n",
        "\n",
        "n = input()\n",
        "if n in d.keys():\n",
        "    print(d[n])\n",
        "else:\n",
        "    print(0)"
      ],
      "metadata": {
        "id": "88mlYpAVOzHw"
      },
      "execution_count": null,
      "outputs": []
    },
    {
      "cell_type": "markdown",
      "source": [
        "**№6**\n",
        "\n",
        "Даны числа m — порядковый номер масти, и k — номер достоинства карты. Масти нумеруются следующим образом: spades−1, clubs−2, diamonds−3, hearts−4. Достоинства определяются по следующему правилу: ace−14, king−13, queen−12, jack−11, ten−10, ..., six−6. Определить полное название соответствующей карты в формате \"the достоинство of масть\", например, \"the ace of spades\".\n"
      ],
      "metadata": {
        "id": "MDicgAqwJoou"
      }
    },
    {
      "cell_type": "code",
      "source": [
        "d = {'spades': 1,\n",
        "     \"clubs\": 2, \n",
        "     \"diamonds\": 3, \n",
        "     \"hearts\": 4,\n",
        "     'ace': 14,\n",
        "     \"king\": 13, \n",
        "     \"queen\": 12, \n",
        "     \"jack\": 11,\n",
        "     \"ten\": 10,\n",
        "     \"nine\": 9,\n",
        "     \"eight\": 8,\n",
        "     'seven': 7,\n",
        "     'six': 6\n",
        "}\n",
        "\n",
        "m, k = map(int, input().split())\n",
        "d_items = d.items()\n",
        "for x in d_items:\n",
        "    if m == x[1]:\n",
        "        s1 = x[0]\n",
        "    if k == x[1]:\n",
        "        s2 = x[0]\n",
        "print(f'the {s2} of {s1}')"
      ],
      "metadata": {
        "id": "bb4naOKyOzdo"
      },
      "execution_count": null,
      "outputs": []
    },
    {
      "cell_type": "markdown",
      "source": [
        "**№7**\n",
        "\n",
        "Даны две строки. Определить, можно ли из букв первой строки получить вторую строку. Каждая буква второй строки должна входить в первое слово как минимум столько же раз, сколько раз она встречается во втором.\n"
      ],
      "metadata": {
        "id": "hjFqNLzqJoou"
      }
    },
    {
      "cell_type": "code",
      "source": [
        "from string import ascii_lowercase as B \n",
        "\n",
        "s = input()\n",
        "d = {x: 0 for x in B}\n",
        "for x in s:\n",
        "    d[x] += 1\n",
        "p = ''\n",
        "for k, v in d.items():\n",
        "    if v == 1:\n",
        "        p += k \n",
        "print(p)"
      ],
      "metadata": {
        "id": "X80h734UOztA"
      },
      "execution_count": null,
      "outputs": []
    },
    {
      "cell_type": "markdown",
      "source": [
        "**№8**\n",
        "\n",
        "Дана строка, состоящая из строчных латинских букв. Вывести в алфавитном порядке те буквы, которые встречаются только один раз.\n",
        "\n"
      ],
      "metadata": {
        "id": "vHaJyR2yJoou"
      }
    },
    {
      "cell_type": "code",
      "source": [
        "s1 = input()\n",
        "s2 = input()\n",
        "set1 = set(s1)\n",
        "set2 = set(s2)\n",
        "res = \"True\"\n",
        "if set2.issubset(set1):\n",
        "    for x in s2:\n",
        "        flag = (s1.count(x) >= s2.count(x))\n",
        "        if not flag:\n",
        "            res = \"False\"\n",
        "            break\n",
        "    print(res)\n",
        "else:\n",
        "    print(\"False\")"
      ],
      "metadata": {
        "id": "tJ4FpvxKO0HQ"
      },
      "execution_count": null,
      "outputs": []
    },
    {
      "cell_type": "markdown",
      "source": [
        "# **Функции**"
      ],
      "metadata": {
        "id": "iNHN8PrxWvTC"
      }
    },
    {
      "cell_type": "markdown",
      "source": [
        "**№1**\n",
        "\n",
        "Дано натуральное число N и целые числа a1,a2,…,aN. Найти количество чисел ai (i=1,2,…,N), являющихся степенями пятерки. Решить задачу с помощью подпрограммы, которая позволяет распознавать степени пятерки"
      ],
      "metadata": {
        "id": "WDkXmnwY5J0Q"
      }
    },
    {
      "cell_type": "code",
      "execution_count": null,
      "metadata": {
        "colab": {
          "base_uri": "https://localhost:8080/"
        },
        "id": "9D1KvFFKKuEh",
        "outputId": "95401c5e-29c5-4a4d-9c44-88e0bfa8ec7e"
      },
      "outputs": [
        {
          "output_type": "stream",
          "name": "stdout",
          "text": [
            "7\n",
            "5 10 15 20 25 30 35\n",
            "2\n"
          ]
        }
      ],
      "source": [
        "def power_five(x):\n",
        "    while x % 5 == 0:\n",
        "        x = x//5\n",
        "    if x == 1:\n",
        "        return True\n",
        "    else:\n",
        "        return False\n",
        "\n",
        "N = int(input())\n",
        "a = [int(x) for x in input().split()]\n",
        "print(len(([1 for x in a if power_five(x)])))"
      ]
    },
    {
      "cell_type": "markdown",
      "source": [
        "**№2**\n",
        "\n",
        "Проверить гипотезу Гольдбаха: каждое четное число, большее двух, можно представить в виде суммы двух простых чисел. Решить задачу с помощью подпрограммы, которая позволяет распознавать простые числа."
      ],
      "metadata": {
        "id": "CoX5piL45ghr"
      }
    },
    {
      "cell_type": "code",
      "source": [
        "from math import sqrt\n",
        "\n",
        "def prime(x):\n",
        "    for i in range(1, int(sqrt(x))):\n",
        "        if x %  i == 0:\n",
        "            return False\n",
        "    return True\n",
        "\n",
        "N = int(input())\n",
        "for i in range(2,N):\n",
        "    if prime(i) and prime(N-i):\n",
        "        print(i, N-i)\n",
        "        break"
      ],
      "metadata": {
        "id": "B_mOBTjGWuwa"
      },
      "execution_count": null,
      "outputs": []
    },
    {
      "cell_type": "markdown",
      "source": [
        "**№3**\n",
        "\n",
        "Составьте процедуру, которая в данном одномерном массиве меняет местами минимальный и последний элемент. Если минимальных элементов в массиве несколько, выберите элемент с наименьшим индексом. Примените процедуру к каждому столбцу заданной прямоугольной матрицы."
      ],
      "metadata": {
        "id": "hDBRg4Vb5qxU"
      }
    },
    {
      "cell_type": "code",
      "source": [
        "def transpose(n,m,A):\n",
        "    if n == m:\n",
        "        B = [[A[j][i] for j in range(m)] for i in range(n)]\n",
        "    else:\n",
        "        B = []\n",
        "        for j in range(m):\n",
        "            tmp=[]\n",
        "            for i in range(n):\n",
        "                tmp += [A[i][j]]\n",
        "            B += [tmp]\n",
        "    return B\n",
        "\n",
        "def func(m):\n",
        "    k_min = 0\n",
        "    min = m[0]\n",
        "    for i in range(len(m)):\n",
        "        if m[i] < min:\n",
        "            min = m[i]\n",
        "            k_min = i\n",
        "    m[k_min], m[-1] = m[-1], m[k_min]\n",
        "    return m\n",
        "\n",
        "n, m = map(int, input().split())\n",
        "A = [[int(x) for x in input().split()] for i in range(n)]\n",
        "A = transpose(n,n,A)\n",
        "for row in A:\n",
        "    row = func(row)\n",
        "A = transpose(n,n,A)\n",
        "for row in A:\n",
        "    print(*row)\n",
        "\n",
        "n, m= map(int, input().split())\n",
        "\n",
        "def sort_min_last(a):\n",
        "    i_min = a.index(min(a))\n",
        "    temp = a[i_min]\n",
        "    a[i_min] = a[len(a)-1]\n",
        "    a[len(a)-1] = temp\n",
        "    return a\n",
        "\n",
        "\n",
        "a = [map(int, input().split()) for _ in range(n) ]\n",
        "\n",
        "a = [list(i) for i in zip(*a)]\n",
        "for i in range(m):\n",
        "    a[i] = sort_min_last(a[i])\n",
        "\n",
        "a = [list(i) for i in zip(*a)]\n",
        "\n",
        "for i in range(n):\n",
        "    print(' '.join(map(str, a[i])))"
      ],
      "metadata": {
        "id": "gHAvhhQpaksE"
      },
      "execution_count": null,
      "outputs": []
    },
    {
      "cell_type": "markdown",
      "source": [
        "**№4**\n",
        "\n",
        "Составить подпрограмму, которая заменяет в двумерном массиве четные элементы на нули.Проверить, будут ли равны два массива A и B после применения к ним этой подпрограммы."
      ],
      "metadata": {
        "id": "PiKK6ISM5zYb"
      }
    },
    {
      "cell_type": "code",
      "source": [
        "def matrix(n,m,A):\n",
        "    for i in range(n):\n",
        "        for j in range(m):\n",
        "            if A[i][j] % 2 == 0:\n",
        "                A[i][j] = 0\n",
        "    return A\n",
        "\n",
        "n, m = map(int, input().split())\n",
        "A = [[int(x) for x in input().split()] for i in range(n)]\n",
        "B = [[int(x) for x in input().split()] for i in range(n)]\n",
        " \n",
        "print(\"YES\" if matrix(n,m,A)==matrix(n,m,B) else \"NO\")"
      ],
      "metadata": {
        "colab": {
          "base_uri": "https://localhost:8080/"
        },
        "id": "SfRE7mQXbbHp",
        "outputId": "51260aa4-8dd8-46bc-d0ce-1e9fb6862059"
      },
      "execution_count": null,
      "outputs": [
        {
          "output_type": "error",
          "ename": "KeyboardInterrupt",
          "evalue": "ignored",
          "traceback": [
            "\u001b[0;31m---------------------------------------------------------------------------\u001b[0m",
            "\u001b[0;31mKeyboardInterrupt\u001b[0m                         Traceback (most recent call last)",
            "\u001b[0;32m<ipython-input-1-389e148bc80c>\u001b[0m in \u001b[0;36m<module>\u001b[0;34m\u001b[0m\n\u001b[1;32m     10\u001b[0m     \u001b[0;32mreturn\u001b[0m \u001b[0mA\u001b[0m\u001b[0;34m\u001b[0m\u001b[0;34m\u001b[0m\u001b[0m\n\u001b[1;32m     11\u001b[0m \u001b[0;34m\u001b[0m\u001b[0m\n\u001b[0;32m---> 12\u001b[0;31m \u001b[0mn\u001b[0m\u001b[0;34m,\u001b[0m \u001b[0mm\u001b[0m \u001b[0;34m=\u001b[0m \u001b[0mmap\u001b[0m\u001b[0;34m(\u001b[0m\u001b[0mint\u001b[0m\u001b[0;34m,\u001b[0m \u001b[0minput\u001b[0m\u001b[0;34m(\u001b[0m\u001b[0;34m)\u001b[0m\u001b[0;34m.\u001b[0m\u001b[0msplit\u001b[0m\u001b[0;34m(\u001b[0m\u001b[0;34m)\u001b[0m\u001b[0;34m)\u001b[0m\u001b[0;34m\u001b[0m\u001b[0;34m\u001b[0m\u001b[0m\n\u001b[0m\u001b[1;32m     13\u001b[0m \u001b[0mA\u001b[0m \u001b[0;34m=\u001b[0m \u001b[0;34m[\u001b[0m\u001b[0;34m[\u001b[0m\u001b[0mint\u001b[0m\u001b[0;34m(\u001b[0m\u001b[0mx\u001b[0m\u001b[0;34m)\u001b[0m \u001b[0;32mfor\u001b[0m \u001b[0mx\u001b[0m \u001b[0;32min\u001b[0m \u001b[0minput\u001b[0m\u001b[0;34m(\u001b[0m\u001b[0;34m)\u001b[0m\u001b[0;34m.\u001b[0m\u001b[0msplit\u001b[0m\u001b[0;34m(\u001b[0m\u001b[0;34m)\u001b[0m\u001b[0;34m]\u001b[0m \u001b[0;32mfor\u001b[0m \u001b[0mi\u001b[0m \u001b[0;32min\u001b[0m \u001b[0mrange\u001b[0m\u001b[0;34m(\u001b[0m\u001b[0mn\u001b[0m\u001b[0;34m)\u001b[0m\u001b[0;34m]\u001b[0m\u001b[0;34m\u001b[0m\u001b[0;34m\u001b[0m\u001b[0m\n\u001b[1;32m     14\u001b[0m \u001b[0mB\u001b[0m \u001b[0;34m=\u001b[0m \u001b[0;34m[\u001b[0m\u001b[0;34m[\u001b[0m\u001b[0mint\u001b[0m\u001b[0;34m(\u001b[0m\u001b[0mx\u001b[0m\u001b[0;34m)\u001b[0m \u001b[0;32mfor\u001b[0m \u001b[0mx\u001b[0m \u001b[0;32min\u001b[0m \u001b[0minput\u001b[0m\u001b[0;34m(\u001b[0m\u001b[0;34m)\u001b[0m\u001b[0;34m.\u001b[0m\u001b[0msplit\u001b[0m\u001b[0;34m(\u001b[0m\u001b[0;34m)\u001b[0m\u001b[0;34m]\u001b[0m \u001b[0;32mfor\u001b[0m \u001b[0mi\u001b[0m \u001b[0;32min\u001b[0m \u001b[0mrange\u001b[0m\u001b[0;34m(\u001b[0m\u001b[0mn\u001b[0m\u001b[0;34m)\u001b[0m\u001b[0;34m]\u001b[0m\u001b[0;34m\u001b[0m\u001b[0;34m\u001b[0m\u001b[0m\n",
            "\u001b[0;32m/usr/local/lib/python3.8/dist-packages/ipykernel/kernelbase.py\u001b[0m in \u001b[0;36mraw_input\u001b[0;34m(self, prompt)\u001b[0m\n\u001b[1;32m    858\u001b[0m                 \u001b[0;34m\"raw_input was called, but this frontend does not support input requests.\"\u001b[0m\u001b[0;34m\u001b[0m\u001b[0;34m\u001b[0m\u001b[0m\n\u001b[1;32m    859\u001b[0m             )\n\u001b[0;32m--> 860\u001b[0;31m         return self._input_request(str(prompt),\n\u001b[0m\u001b[1;32m    861\u001b[0m             \u001b[0mself\u001b[0m\u001b[0;34m.\u001b[0m\u001b[0m_parent_ident\u001b[0m\u001b[0;34m,\u001b[0m\u001b[0;34m\u001b[0m\u001b[0;34m\u001b[0m\u001b[0m\n\u001b[1;32m    862\u001b[0m             \u001b[0mself\u001b[0m\u001b[0;34m.\u001b[0m\u001b[0m_parent_header\u001b[0m\u001b[0;34m,\u001b[0m\u001b[0;34m\u001b[0m\u001b[0;34m\u001b[0m\u001b[0m\n",
            "\u001b[0;32m/usr/local/lib/python3.8/dist-packages/ipykernel/kernelbase.py\u001b[0m in \u001b[0;36m_input_request\u001b[0;34m(self, prompt, ident, parent, password)\u001b[0m\n\u001b[1;32m    902\u001b[0m             \u001b[0;32mexcept\u001b[0m \u001b[0mKeyboardInterrupt\u001b[0m\u001b[0;34m:\u001b[0m\u001b[0;34m\u001b[0m\u001b[0;34m\u001b[0m\u001b[0m\n\u001b[1;32m    903\u001b[0m                 \u001b[0;31m# re-raise KeyboardInterrupt, to truncate traceback\u001b[0m\u001b[0;34m\u001b[0m\u001b[0;34m\u001b[0m\u001b[0;34m\u001b[0m\u001b[0m\n\u001b[0;32m--> 904\u001b[0;31m                 \u001b[0;32mraise\u001b[0m \u001b[0mKeyboardInterrupt\u001b[0m\u001b[0;34m(\u001b[0m\u001b[0;34m\"Interrupted by user\"\u001b[0m\u001b[0;34m)\u001b[0m \u001b[0;32mfrom\u001b[0m \u001b[0;32mNone\u001b[0m\u001b[0;34m\u001b[0m\u001b[0;34m\u001b[0m\u001b[0m\n\u001b[0m\u001b[1;32m    905\u001b[0m             \u001b[0;32mexcept\u001b[0m \u001b[0mException\u001b[0m \u001b[0;32mas\u001b[0m \u001b[0me\u001b[0m\u001b[0;34m:\u001b[0m\u001b[0;34m\u001b[0m\u001b[0;34m\u001b[0m\u001b[0m\n\u001b[1;32m    906\u001b[0m                 \u001b[0mself\u001b[0m\u001b[0;34m.\u001b[0m\u001b[0mlog\u001b[0m\u001b[0;34m.\u001b[0m\u001b[0mwarning\u001b[0m\u001b[0;34m(\u001b[0m\u001b[0;34m\"Invalid Message:\"\u001b[0m\u001b[0;34m,\u001b[0m \u001b[0mexc_info\u001b[0m\u001b[0;34m=\u001b[0m\u001b[0;32mTrue\u001b[0m\u001b[0;34m)\u001b[0m\u001b[0;34m\u001b[0m\u001b[0;34m\u001b[0m\u001b[0m\n",
            "\u001b[0;31mKeyboardInterrupt\u001b[0m: Interrupted by user"
          ]
        }
      ]
    },
    {
      "cell_type": "markdown",
      "source": [
        "**№5**\n",
        "\n",
        "Составить подпрограмму транспонирования прямоугольной матрицы. Получить транспонированнную матрицу для матрицы размерности n на m."
      ],
      "metadata": {
        "id": "qb1OzNHj6AHX"
      }
    },
    {
      "cell_type": "code",
      "source": [
        "def transpose(n,m,A):\n",
        "    if n == m:\n",
        "        B = [[A[j][i] for j in range(m)] for i in range(n)]\n",
        "    else:\n",
        "        B = []\n",
        "        for j in range(m):\n",
        "            tmp=[]\n",
        "            for i in range(n):\n",
        "                tmp += [A[i][j]]\n",
        "            B += [tmp]\n",
        "    return B\n",
        "\n",
        "n, m = map(int, input().split())\n",
        "A = [[int(x) for x in input().split()] for i in range(n)]\n",
        "print(transpose(n,m,A))"
      ],
      "metadata": {
        "id": "dkNT8-mD0zlz"
      },
      "execution_count": null,
      "outputs": []
    },
    {
      "cell_type": "markdown",
      "source": [
        "**№6**\n",
        "\n",
        "Составить подпрограмму перемножения матриц. С ее помощью вычислить n-ю степень квадратной матрицы A размера n на n.\n"
      ],
      "metadata": {
        "id": "vPICK4Op6Kff"
      }
    },
    {
      "cell_type": "code",
      "source": [
        "def multiplicate(A, B):\n",
        "    n, m, k = len(A), len(A[0]), len(B[0])\n",
        "    c = [[0]*k for i in range(n)]\n",
        "    for i in range(n):\n",
        "        for j in range(k):\n",
        "            tmp = 0\n",
        "            for r in range(m):\n",
        "                tmp += A[i][r] * B[r][j]\n",
        "            c[i][j] = tmp\n",
        "    return c\n",
        "            \n",
        "\n",
        "n = int(input())\n",
        "A = [[float(x) for x in input().split()] for i in range(n)]\n",
        "if n == 2:\n",
        "    B = multiplicate(A,A)\n",
        "else:\n",
        "    k = 2\n",
        "    B = multiplicate(A,A)\n",
        "    while k<=n:\n",
        "        B = multiplicate(A,B)\n",
        "        k += 1\n",
        "for i in range(len(B)):\n",
        "    B[i] = [\"{:.3f}\".format(x) for x in B[i]]\n",
        "    print(' '.join(B[i]))\n",
        "\n",
        "def multiplicate(n, A, B):\n",
        "    C = [[0]*n for i in range(n)]\n",
        "    for i in range(len(A)): \n",
        "        for j in range(len(B[0])): \n",
        "            for k in range(len(B)): \n",
        "                C[i][j] += A[i][k] * B[k][j]\n",
        "    return C\n",
        "\n",
        "n = int(input())\n",
        "A = [[float(x) for x in input().split()] for i in range(n)]\n",
        "B = multiplicate(n, A, A)\n",
        "if n > 2:\n",
        "    k = 2\n",
        "    while k <= n:\n",
        "        B = multiplicate(n, B, A)\n",
        "        k += 1\n",
        "for i in range(n):\n",
        "    B[i] = [\"{:.3f}\".format(x) for x in B[i]]\n",
        "    print(' '.join(B[i]))"
      ],
      "metadata": {
        "id": "PALVQDFi75PV"
      },
      "execution_count": null,
      "outputs": []
    },
    {
      "cell_type": "markdown",
      "source": [
        "**№7**\n",
        "\n",
        "Дано N строк. В каждой из них есть несколько пар круглых скобок. Написать подпрограмму, которая в данной строке удаляет круглые скобки вместе с текстом, который заключен между ними. Применить эту подпрограмму к каждой из данных строк."
      ],
      "metadata": {
        "id": "Mq_SXLSu6Rg_"
      }
    },
    {
      "cell_type": "code",
      "source": [],
      "metadata": {
        "id": "CyCSKotm8X75"
      },
      "execution_count": null,
      "outputs": []
    },
    {
      "cell_type": "markdown",
      "source": [
        "**№8**\n",
        "\n",
        "Напишите функцию для вычисления k-го члена последовательности Фибоначчи. Последовательность Фибоначчи образуется по закону: \n",
        "\n",
        "f_1=1,\n",
        "\n",
        "f_2=1,\n",
        "\n",
        "fi=f_{i−1}+f_{i−2} (i=3,4,...)."
      ],
      "metadata": {
        "id": "CsKh8WqF6ZTf"
      }
    },
    {
      "cell_type": "code",
      "source": [
        "def fib(n):\n",
        "    if 0 <= n <= 1:\n",
        "        return n\n",
        "    else:\n",
        "        res = [0, 1]\n",
        "        for i in range(2,n+1):\n",
        "            res.append(res[i-1]+res[i-2])\n",
        "        return res[n]\n",
        "\n",
        "\n",
        "n = int(input())\n",
        "print(fib(n))"
      ],
      "metadata": {
        "colab": {
          "base_uri": "https://localhost:8080/"
        },
        "id": "e6KmYOk_8fnq",
        "outputId": "240592c7-6628-4591-8240-43ac9b874876"
      },
      "execution_count": null,
      "outputs": [
        {
          "output_type": "stream",
          "name": "stdout",
          "text": [
            "3\n",
            "2\n"
          ]
        }
      ]
    },
    {
      "cell_type": "markdown",
      "source": [
        "# **Файлы и сортировки**"
      ],
      "metadata": {
        "id": "TjmAeUYE6NWM"
      }
    },
    {
      "cell_type": "markdown",
      "source": [
        "**№1**\n",
        "\n",
        "Дан текстовый файл. Найдите первые символы всех непустых строк."
      ],
      "metadata": {
        "id": "-fX-Wcom6xbq"
      }
    },
    {
      "cell_type": "code",
      "source": [
        "s = ''\n",
        "\n",
        "with open(\"/content/input.txt\", \"r\") as file:\n",
        "    for line in file:\n",
        "        if line != '\\n':\n",
        "            s += line[0]\n",
        "with open(\"/content/output.txt\", \"w\") as file:\n",
        "    file.write(s)\n"
      ],
      "metadata": {
        "id": "vl_LdWSn6NDe"
      },
      "execution_count": null,
      "outputs": []
    },
    {
      "cell_type": "markdown",
      "source": [
        "**№2**\n",
        "\n",
        "Дан текстовый файл. Требуется получить строку, образованную k - ми символами каждой строки."
      ],
      "metadata": {
        "id": "TnmSnJEF65Rq"
      }
    },
    {
      "cell_type": "code",
      "source": [
        "s = ''\n",
        "\n",
        "with open(\"/content/input.txt\", \"r\") as file:\n",
        "    lines = file.readlines()\n",
        "lines = [line.rstrip() for line in lines]\n",
        "k = int(lines[0])\n",
        "for line in lines:\n",
        "    if line != '\\n':\n",
        "        if len(line) >= k:\n",
        "            s += line[k-1]\n",
        "with open(\"/content/output.txt\", \"w\") as file:\n",
        "    file.write(s)"
      ],
      "metadata": {
        "colab": {
          "base_uri": "https://localhost:8080/"
        },
        "id": "akc_nOiF8f76",
        "outputId": "2eccb78b-1bc5-4c7a-e8ff-7003dbe8e5e8"
      },
      "execution_count": null,
      "outputs": [
        {
          "output_type": "stream",
          "name": "stdout",
          "text": [
            "['2', 'Hi']\n",
            "2\n"
          ]
        }
      ]
    },
    {
      "cell_type": "markdown",
      "source": [
        "**№3**\n",
        "\n",
        "Дан текстовый файл. Найдите в нем самую длинную строку и ее длину. Если таких строк несколько, выведите первую."
      ],
      "metadata": {
        "id": "50q2V97n6-pQ"
      }
    },
    {
      "cell_type": "code",
      "source": [
        "s = ''\n",
        "lenS = 0\n",
        "\n",
        "with open(\"/content/input.txt\", \"r\") as file:\n",
        "    lines = file.readlines()\n",
        "lines = [line.rstrip() for line in lines]\n",
        "for x in lines:\n",
        "    if x != '\\n':\n",
        "        if len(x) > lenS:\n",
        "            lenS = len(x)\n",
        "            s = x\n",
        "with open(\"/content/output.txt\", \"w\") as file:\n",
        "    file.write(s+'\\n')\n",
        "    file.write(str(lenS))"
      ],
      "metadata": {
        "id": "8QpuMjSB-C3O"
      },
      "execution_count": null,
      "outputs": []
    },
    {
      "cell_type": "markdown",
      "source": [
        "**№4**\n",
        "\n",
        "Дан текстовый файл. Найдите номер самой длинной строки. Если таких строк несколько, выведите номер первой из них."
      ],
      "metadata": {
        "id": "Cfa-kCXf7Il2"
      }
    },
    {
      "cell_type": "code",
      "source": [
        "numb = 0\n",
        "lenS = 0\n",
        "\n",
        "with open(\"/content/input.txt\", \"r\") as file:\n",
        "    lines = file.readlines()\n",
        "lines = [line.rstrip() for line in lines]\n",
        "for i in range(len(lines)):\n",
        "    if lines[i] != '\\n':\n",
        "        if len(lines[i]) > lenS:\n",
        "            lenS = len(lines[i])\n",
        "            numb = i+1  \n",
        "with open(\"/content/output.txt\", \"w\") as file:\n",
        "    file.write(str(numb))"
      ],
      "metadata": {
        "id": "z2RIj07uAuK5"
      },
      "execution_count": null,
      "outputs": []
    },
    {
      "cell_type": "markdown",
      "source": [
        "**№5**\n",
        "\n",
        "В текстовом файле содержатся записи о студентах. Для каждого студента известны его фамилия, имя, отчество, год рождения, оценки по пяти предметам. Необходимо отсортировать по возрастанию средней оценки (гарантируется, что средние оценки не повторяются)."
      ],
      "metadata": {
        "id": "hMaO6CPt7Nu6"
      }
    },
    {
      "cell_type": "code",
      "source": [
        "with open('input.txt', 'r') as file:\n",
        "    N = int(file.readline())\n",
        "    students = []\n",
        "    for line in file:\n",
        "        if line != '\\n':\n",
        "            line = line.split()\n",
        "            F, I, O, Y, G = line[0], line[1], line[2], line[3], line[4:]\n",
        "            Y = int(Y)\n",
        "            G = [int(x) for x in G]\n",
        "            students.append([F, I, O, Y, G])\n",
        "students = sorted(students, key=lambda student: sum(student[4])/len(student[4]))\n",
        "with open('output.txt', 'w') as file:\n",
        "    perenos = '\\n'\n",
        "    for i in range(N):\n",
        "        students[i][4] = ' '.join(map(str, students[i][4]))\n",
        "        if i == N-1:\n",
        "            perenos = ''\n",
        "        file.write(' '.join(map(str, students[i]))+perenos)"
      ],
      "metadata": {
        "id": "j2XP_13mCEKx"
      },
      "execution_count": null,
      "outputs": []
    },
    {
      "cell_type": "markdown",
      "source": [
        "**№6**\n",
        "\n",
        "В текстовом файле содержатся записи о студентах. Для каждого студента известны его фамилия, имя, отчество, год рождения, оценки по пяти предметам. Необходимо отсортировать в алфавитном порядке по фамилии, а затем по убыванию года рождения."
      ],
      "metadata": {
        "id": "iomcWDO87SUQ"
      }
    },
    {
      "cell_type": "code",
      "source": [
        "with open('input.txt', 'r') as file:\n",
        "    N = int(file.readline())\n",
        "    students = []\n",
        "    for line in file:\n",
        "        if line != '\\n':\n",
        "            line = line.split()\n",
        "            F, I, O, Y, G = line[0], line[1], line[2], line[3], line[4:]\n",
        "            Y = int(Y)\n",
        "            G = [int(x) for x in G]\n",
        "            students.append([F, I, O, Y, G])\n",
        "students = sorted(students, key=lambda student: (student[0], -student[3]))\n",
        "with open('output.txt', 'w') as file:\n",
        "    perenos = '\\n'\n",
        "    for i in range(N):\n",
        "        students[i][4] = ' '.join(map(str, students[i][4]))\n",
        "        if i == N-1:\n",
        "            perenos = ''\n",
        "        file.write(' '.join(map(str, students[i]))+perenos)"
      ],
      "metadata": {
        "id": "LlMVC1d4FGbc"
      },
      "execution_count": null,
      "outputs": []
    },
    {
      "cell_type": "markdown",
      "source": [
        "**№7**\n",
        "\n",
        "Дана квадратная матрица размерностью N×N содержащая целые числа. Необходимо отсортировать каждую строчку матрицы по убыванию элементов."
      ],
      "metadata": {
        "id": "FA0fIAb07aUi"
      }
    },
    {
      "cell_type": "code",
      "source": [
        "with open('input.txt', 'r') as file:\n",
        "    N = int(file.readline())\n",
        "    matrix = []\n",
        "    for line in file:\n",
        "        if line != '\\n':\n",
        "            matrix.append(sorted([int(x) for x in line.split()], reverse=True))\n",
        "with open('output.txt', 'w') as file:\n",
        "    perenos = '\\n'\n",
        "    for i in range(N):\n",
        "        if i == N-1:\n",
        "            perenos = ''\n",
        "        file.write(' '.join(map(str, matrix[i]))+perenos)"
      ],
      "metadata": {
        "id": "nSclOv3hFOAE"
      },
      "execution_count": null,
      "outputs": []
    },
    {
      "cell_type": "markdown",
      "source": [
        "**№8**\n",
        "\n",
        "Дана квадратная матрица размерностью N×N содержащая целые числа.Необходимо отсортировать каждый столбец матрицы по возрастанию элементов."
      ],
      "metadata": {
        "id": "iHbVTWXx7gdX"
      }
    },
    {
      "cell_type": "code",
      "source": [
        "with open('input.txt', 'r') as file:\n",
        "    N = int(file.readline())\n",
        "    matrix = []\n",
        "    for line in file:\n",
        "        if line:\n",
        "            matrix.append([int(x) for x in line.split()])\n",
        "matrix = [list(x) for x in zip(*matrix)]\n",
        "matrix = [sorted(x) for x in matrix]\n",
        "matrix = [list(x) for x in zip(*matrix)]\n",
        "with open('output.txt', 'w') as file:\n",
        "    perenos = '\\n'\n",
        "    for i in range(N):\n",
        "        if i == N-1:\n",
        "            perenos = ''\n",
        "        file.write(' '.join(map(str, matrix[i]))+perenos)"
      ],
      "metadata": {
        "id": "XeFV4HTjFTRE"
      },
      "execution_count": null,
      "outputs": []
    },
    {
      "cell_type": "markdown",
      "source": [
        "**№9**\n",
        "\n",
        "В текстовом файле содержатся записи о поставках товаров. Для каждой поставки указано наименование поставленного товара, фирма-производитель и количество. Необходимо вывести первые 10 поставок списка, полученного в результате сортировки исходного списка по наименованию товара (при совпадении наименований поставки сортируются по количеству товара в порядке невозрастания, при совпадении наименования и количества сохраняется исходный порядок) и исключения из списка поставок товаров фирмы, указанной в последней строке файла."
      ],
      "metadata": {
        "id": "Jr0451si7mGH"
      }
    },
    {
      "cell_type": "code",
      "source": [
        "with open('input.txt', 'r') as file:\n",
        "    N = int(file.readline().rstrip())\n",
        "    kol = 1\n",
        "    inf = []\n",
        "    for line in file:\n",
        "        if line:\n",
        "            if kol <= N:\n",
        "                NAME, F, K = line.rstrip().split()\n",
        "                K = int(K)\n",
        "                inf.append([NAME, F, K])\n",
        "                kol += 1\n",
        "            else:\n",
        "                iskl = line.rstrip()\n",
        "inf = sorted(inf, key=lambda x: (x[0], -x[2]))\n",
        "inf = [x for x in inf if x[1] != iskl]\n",
        "\n",
        "with open('output.txt', 'w') as file:\n",
        "    perenos = '\\n'\n",
        "    if len(inf) < 10:\n",
        "        n = len(inf)\n",
        "    else:\n",
        "        n = 10\n",
        "    for i in range(n):\n",
        "        inf[i][2] = str(inf[i][2])\n",
        "        if i == n-1:\n",
        "            perenos = ''\n",
        "        file.write(' '.join(map(str, inf[i]))+perenos)"
      ],
      "metadata": {
        "id": "t2vurOryFYAR",
        "colab": {
          "base_uri": "https://localhost:8080/"
        },
        "outputId": "fc5bfc62-d092-427e-ab12-f7d32addcf7b"
      },
      "execution_count": null,
      "outputs": [
        {
          "output_type": "stream",
          "name": "stdout",
          "text": [
            "-745 366 613 499 -930\n",
            "-874 -18 447 -709 -764\n",
            "-333 -145 -240 -884 -568\n",
            "-444 -212 265 -495 -655\n",
            "-950 134 -675 -159 -444\n"
          ]
        }
      ]
    },
    {
      "cell_type": "markdown",
      "source": [
        "**№10**\n",
        "\n",
        "Дан набор из N карт — подмножество стандартной колоды из 52 карт. Необходимо сортировать карты каждой масти по рангу (2, 3, ..., 10, валет 11, дама 12, король 13, туз 14). Порядок, в котором следует расположить масти, также задан."
      ],
      "metadata": {
        "id": "wwoeV2bK7v6g"
      }
    },
    {
      "cell_type": "code",
      "source": [
        "with open('input.txt', 'r') as file:\n",
        "    N = int(file.readline().rstrip())\n",
        "    d = {'p': [], 'c': [], 'b': [], 'k': []}\n",
        "    for i in range(N+1):\n",
        "            if i < N:\n",
        "                num, m = file.readline().rstrip().split() \n",
        "                num = int(num)\n",
        "                d[m].append(num)\n",
        "            else:\n",
        "                por = file.readline().rstrip()\n",
        "with open('output.txt', 'w') as file:\n",
        "    kol = 0\n",
        "    for x in por:\n",
        "        s = ' '.join([f'{x}' for x in sorted(d[x])])\n",
        "        if kol < 3:\n",
        "            file.write(f'{x}: '+ s +'\\n')\n",
        "        else:\n",
        "            file.write(f'{x}: '+ s )\n",
        "        kol += 1"
      ],
      "metadata": {
        "id": "6lBWVtfrFiOw"
      },
      "execution_count": null,
      "outputs": []
    },
    {
      "cell_type": "markdown",
      "source": [
        "# **NumPy 1**"
      ],
      "metadata": {
        "id": "4Yu5tLhOq20Y"
      }
    },
    {
      "cell_type": "markdown",
      "source": [
        "1. Сгенерировать матрицу размером 4 × 9, заполненную целыми числами.\n",
        "2. Вывести на экран элемент с индексами [2, 6].\n",
        "3. Вывести на экран каждый второй элемент третьей строки матрицы.\n",
        "4. Вывести на экран элементы последнего столбца в обратном порядке.\n",
        "5. Изменить форму матрицы с 4 × 9 на 6 × 6.\n",
        "6. Возвести каждый элемент матрицы в заданную степень.\n",
        "7. Найти минимум на главной диагонали.\n",
        "8. Найти максимальный элемент в предпоследнем столбце.\n",
        "9. Определить, образуют ли элементы сжатого до одной оси массива невозрастающую последовательность.\n",
        "10. Подсчитать произведение ненулевых элементов на побочной диагонали."
      ],
      "metadata": {
        "id": "V2b4t5WFTvpu"
      }
    },
    {
      "cell_type": "code",
      "source": [
        "import numpy as np\n",
        "np.random.seed(0)\n",
        "\n",
        "mas = np.random.randint(0, 10, (4,9)) # целые числа в промежутке от 0 до 10\n",
        "print(\"1)\", mas)"
      ],
      "metadata": {
        "colab": {
          "base_uri": "https://localhost:8080/"
        },
        "id": "xivscRhwTtly",
        "outputId": "e83ea643-fd25-482d-f822-badc4a0a72ff"
      },
      "execution_count": null,
      "outputs": [
        {
          "output_type": "stream",
          "name": "stdout",
          "text": [
            "1) [[5 0 3 3 7 9 3 5 2]\n",
            " [4 7 6 8 8 1 6 7 7]\n",
            " [8 1 5 9 8 9 4 3 0]\n",
            " [3 5 0 2 3 8 1 3 3]]\n"
          ]
        }
      ]
    },
    {
      "cell_type": "code",
      "source": [
        "print(\"2)\", mas[2,6])"
      ],
      "metadata": {
        "colab": {
          "base_uri": "https://localhost:8080/"
        },
        "id": "VRLgk5rDT09G",
        "outputId": "21bbae38-8949-47df-806e-887ede031258"
      },
      "execution_count": null,
      "outputs": [
        {
          "output_type": "stream",
          "name": "stdout",
          "text": [
            "2) 4\n"
          ]
        }
      ]
    },
    {
      "cell_type": "code",
      "source": [
        "print(\"3)\", mas[2, 1::2]) "
      ],
      "metadata": {
        "colab": {
          "base_uri": "https://localhost:8080/"
        },
        "id": "UwbDgwgJT4By",
        "outputId": "9178bbc6-9f8d-4b25-bbf5-f5b52da1ebe8"
      },
      "execution_count": null,
      "outputs": [
        {
          "output_type": "stream",
          "name": "stdout",
          "text": [
            "3) [1 9 9 3]\n"
          ]
        }
      ]
    },
    {
      "cell_type": "code",
      "source": [
        "print(\"4)\", mas[::-1,-1])"
      ],
      "metadata": {
        "colab": {
          "base_uri": "https://localhost:8080/"
        },
        "id": "k37UG9B4T6LM",
        "outputId": "fdcf187b-7f42-4fbd-992b-9b28ff643a2b"
      },
      "execution_count": null,
      "outputs": [
        {
          "output_type": "stream",
          "name": "stdout",
          "text": [
            "4) [3 0 7 2]\n"
          ]
        }
      ]
    },
    {
      "cell_type": "code",
      "source": [
        "mas = mas.reshape(6, 6)\n",
        "print(\"5)\", mas)"
      ],
      "metadata": {
        "colab": {
          "base_uri": "https://localhost:8080/"
        },
        "id": "yJnRY-g0T86y",
        "outputId": "5b6bb987-7106-4795-e221-e066cf99bcc6"
      },
      "execution_count": null,
      "outputs": [
        {
          "output_type": "stream",
          "name": "stdout",
          "text": [
            "5) [[5 0 3 3 7 9]\n",
            " [3 5 2 4 7 6]\n",
            " [8 8 1 6 7 7]\n",
            " [8 1 5 9 8 9]\n",
            " [4 3 0 3 5 0]\n",
            " [2 3 8 1 3 3]]\n"
          ]
        }
      ]
    },
    {
      "cell_type": "code",
      "source": [
        "s = int(input('Степень = '))\n",
        "print(\"6)\", mas**s)"
      ],
      "metadata": {
        "colab": {
          "base_uri": "https://localhost:8080/"
        },
        "id": "IcVKN9bCT9BF",
        "outputId": "38054aa2-20d4-4a65-a307-7b50651b7ffa"
      },
      "execution_count": null,
      "outputs": [
        {
          "output_type": "stream",
          "name": "stdout",
          "text": [
            "Степень = 2\n",
            "6) [[25  0  9  9 49 81]\n",
            " [ 9 25  4 16 49 36]\n",
            " [64 64  1 36 49 49]\n",
            " [64  1 25 81 64 81]\n",
            " [16  9  0  9 25  0]\n",
            " [ 4  9 64  1  9  9]]\n"
          ]
        }
      ]
    },
    {
      "cell_type": "code",
      "source": [
        "print(\"7)\", np.min(mas.diagonal()))"
      ],
      "metadata": {
        "colab": {
          "base_uri": "https://localhost:8080/"
        },
        "id": "1vhB5gc6UCK6",
        "outputId": "0005aa33-6e29-4208-c181-218a9d706078"
      },
      "execution_count": null,
      "outputs": [
        {
          "output_type": "stream",
          "name": "stdout",
          "text": [
            "7) 1\n"
          ]
        }
      ]
    },
    {
      "cell_type": "code",
      "source": [
        "print(\"8)\", np.max(mas[:, -2]))"
      ],
      "metadata": {
        "colab": {
          "base_uri": "https://localhost:8080/"
        },
        "id": "5lRalm1yUFBH",
        "outputId": "1def94d4-3f2a-4986-91b7-a2e8cd3de8f9"
      },
      "execution_count": null,
      "outputs": [
        {
          "output_type": "stream",
          "name": "stdout",
          "text": [
            "8) 8\n"
          ]
        }
      ]
    },
    {
      "cell_type": "code",
      "source": [
        "print(\"9)\", \"YES\" if np.array_equal(-np.sort(-np.ravel(mas)),np.ravel(mas)) else \"NO\") "
      ],
      "metadata": {
        "id": "0UXrKZyoUHDd",
        "outputId": "dbf07643-a2be-42c9-884d-067d307e1365",
        "colab": {
          "base_uri": "https://localhost:8080/"
        }
      },
      "execution_count": null,
      "outputs": [
        {
          "output_type": "stream",
          "name": "stdout",
          "text": [
            "9) NO\n"
          ]
        }
      ]
    },
    {
      "cell_type": "code",
      "source": [
        "d = np.diag(np.fliplr(mas))\n",
        "print(\"10)\", np.prod(d[d != 0]))"
      ],
      "metadata": {
        "id": "kidp77wxUJ-f",
        "outputId": "86e6a411-98b5-4a6b-95a0-f1877fa4a9e0",
        "colab": {
          "base_uri": "https://localhost:8080/"
        }
      },
      "execution_count": null,
      "outputs": [
        {
          "output_type": "stream",
          "name": "stdout",
          "text": [
            "10) 11340\n"
          ]
        }
      ]
    },
    {
      "cell_type": "markdown",
      "source": [
        "# **Numpy 2**"
      ],
      "metadata": {
        "id": "VOyxjEGaTjcK"
      }
    },
    {
      "cell_type": "code",
      "source": [
        "import numpy as np"
      ],
      "metadata": {
        "id": "4iLvAKUBL8ru"
      },
      "execution_count": null,
      "outputs": []
    },
    {
      "cell_type": "markdown",
      "source": [
        "**№1**\n",
        "\n",
        "Дана целочисленная матрица A (квадратная таблица) размерностью N×N. Вывести максимальный элемент каждой строки матрицы."
      ],
      "metadata": {
        "id": "7BrEKWCmL04H"
      }
    },
    {
      "cell_type": "code",
      "source": [
        "N = int(input())\n",
        "A = np.array([[int(x) for x in input().split()] for i in range(N)])\n",
        "\n",
        "print(' '.join(map(str, np.array([np.max(A[i]) for i in range(N)]))))"
      ],
      "metadata": {
        "id": "T4lY0PEOq6Dg",
        "colab": {
          "base_uri": "https://localhost:8080/"
        },
        "outputId": "4f271dd1-4f4f-4543-fe70-640118c7960d"
      },
      "execution_count": null,
      "outputs": [
        {
          "output_type": "stream",
          "name": "stdout",
          "text": [
            "3\n",
            "1 2 3\n",
            "4 5 6\n",
            "7 8 9\n",
            "3 6 9\n"
          ]
        }
      ]
    },
    {
      "cell_type": "markdown",
      "source": [
        "**№2**\n",
        "\n",
        "Дана целочисленная матрица A (квадратная таблица) размерностью N×N. Вывести максимальный элемент каждого столбца."
      ],
      "metadata": {
        "id": "RqpiVMoqL-bu"
      }
    },
    {
      "cell_type": "code",
      "source": [
        "N = int(input())\n",
        "A = np.array([[int(x) for x in input().split()] for i in range(N)])\n",
        "\n",
        "print(' '.join(map(str, np.max(A, axis=0))))"
      ],
      "metadata": {
        "colab": {
          "base_uri": "https://localhost:8080/"
        },
        "id": "qdyWjaIXOzBc",
        "outputId": "a8333f3d-9196-470d-d6dc-cdc0265ceb80"
      },
      "execution_count": null,
      "outputs": [
        {
          "output_type": "stream",
          "name": "stdout",
          "text": [
            "3\n",
            "1 2 3\n",
            "4 5 6\n",
            "7 8 9\n",
            "7 8 9\n"
          ]
        }
      ]
    },
    {
      "cell_type": "markdown",
      "source": [
        "**№3**\n",
        "\n",
        "Дана целочисленная матрица A (квадратная таблица) размерностью N×N. Вывести элементы главной диагонали."
      ],
      "metadata": {
        "id": "FZ-_2ghEMRWo"
      }
    },
    {
      "cell_type": "code",
      "source": [
        "N = int(input())\n",
        "A = np.array([[int(x) for x in input().split()] for i in range(N)])\n",
        "\n",
        "print(' '.join(map(str, np.diagonal(A))))"
      ],
      "metadata": {
        "colab": {
          "base_uri": "https://localhost:8080/"
        },
        "id": "wydOnvdTRpg0",
        "outputId": "18d0df6e-e753-4468-ec13-14e01634ba7a"
      },
      "execution_count": null,
      "outputs": [
        {
          "output_type": "stream",
          "name": "stdout",
          "text": [
            "3\n",
            "1 0 0\n",
            "0 1 0\n",
            "0 0 1\n",
            "[1 1 1]\n"
          ]
        }
      ]
    },
    {
      "cell_type": "markdown",
      "source": [
        "**№4**\n",
        "\n",
        "Дана целочисленная матрица A (квадратная таблица) размерностью N×N. Вывести элементы побочной диагонали"
      ],
      "metadata": {
        "id": "LOZZEBzGMYbY"
      }
    },
    {
      "cell_type": "code",
      "source": [
        "N = int(input())\n",
        "A = np.array([[int(x) for x in input().split()] for i in range(N)])\n",
        "\n",
        "print(' '.join(map(str, np.diag(np.fliplr(A))))) "
      ],
      "metadata": {
        "colab": {
          "base_uri": "https://localhost:8080/"
        },
        "id": "Ns2NowOUSdyA",
        "outputId": "aed4596b-a2af-43e2-e52c-9b7d009cfc36"
      },
      "execution_count": null,
      "outputs": [
        {
          "output_type": "stream",
          "name": "stdout",
          "text": [
            "3\n",
            "1 0 0\n",
            "0 1 0\n",
            "0 0 1\n",
            "0 1 0\n"
          ]
        }
      ]
    },
    {
      "cell_type": "markdown",
      "source": [
        "**№5**\n",
        "\n",
        "Дана матрица A. Вычислите ее определитель."
      ],
      "metadata": {
        "id": "M8-UY72vMgYc"
      }
    },
    {
      "cell_type": "code",
      "source": [
        "n = int(input())\n",
        "A = np.array([[float(x) for x in input().split()] for i in range(n)])\n",
        "\n",
        "print(f'{np.linalg.det(A):.6f}')"
      ],
      "metadata": {
        "colab": {
          "base_uri": "https://localhost:8080/"
        },
        "id": "7lmqxzSsS9h9",
        "outputId": "08e2986e-6244-4fd6-b4c3-ae1b7307ce9d"
      },
      "execution_count": null,
      "outputs": [
        {
          "output_type": "stream",
          "name": "stdout",
          "text": [
            "2\n",
            "1 1\n",
            "1 -1.5\n",
            "-2.500000\n"
          ]
        }
      ]
    },
    {
      "cell_type": "markdown",
      "source": [
        "**№6**\n",
        "\n",
        "Дана обратимая матрица A. Найдите обратную матрицу."
      ],
      "metadata": {
        "id": "Q4k3OzaoMr-J"
      }
    },
    {
      "cell_type": "code",
      "source": [
        "n = int(input())\n",
        "A = np.array([[float(x) for x in input().split()] for i in range(n)])\n",
        "A_ = np.linalg.inv(A)\n",
        "\n",
        "for i in range(n):\n",
        "    print(' '. join(map(str, [f'{x:.6f}' for x in A_[i]])))"
      ],
      "metadata": {
        "colab": {
          "base_uri": "https://localhost:8080/"
        },
        "id": "U1K3jhU7VClc",
        "outputId": "cb30bb3b-1ed8-4e15-cad9-5a7483064b05"
      },
      "execution_count": null,
      "outputs": [
        {
          "output_type": "stream",
          "name": "stdout",
          "text": [
            "2\n",
            "1 1\n",
            "1 -1.5\n",
            "0.600000 0.400000\n",
            "0.400000 -0.400000\n"
          ]
        }
      ]
    }
  ]
}