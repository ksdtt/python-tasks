{
  "nbformat": 4,
  "nbformat_minor": 0,
  "metadata": {
    "colab": {
      "provenance": []
    },
    "kernelspec": {
      "name": "python3",
      "display_name": "Python 3"
    },
    "language_info": {
      "name": "python"
    }
  },
  "cells": [
    {
      "cell_type": "markdown",
      "source": [
        "# **Основные алгоритмические конструкции**"
      ],
      "metadata": {
        "id": "HVveSkktT9jg"
      }
    },
    {
      "cell_type": "markdown",
      "source": [
        "**№1**\n",
        "\n",
        "Дано натуральное трехзначное число N. Определить сумму и произведение его цифр."
      ],
      "metadata": {
        "id": "-BJy0rIXIaOt"
      }
    },
    {
      "cell_type": "code",
      "source": [
        "N = int(input())\n",
        "summ = N % 1000 // 100 + N % 100 //10 +(N % 10) % 10\n",
        "p = (N % 1000 // 100) * (N % 100 //10) * (N % 10 % 10)\n",
        "print(summ, p, sep='\\n')"
      ],
      "metadata": {
        "id": "wghF5NyqT37Z",
        "colab": {
          "base_uri": "https://localhost:8080/"
        },
        "outputId": "e6d79240-1f8f-4f3a-80a1-dea3a3aa48f1"
      },
      "execution_count": null,
      "outputs": [
        {
          "output_type": "stream",
          "name": "stdout",
          "text": [
            "111\n",
            "3\n",
            "1\n"
          ]
        }
      ]
    },
    {
      "cell_type": "markdown",
      "source": [
        "**№2**\n",
        "\n",
        "Одноклеточная амеба каждые 3 часа делится на 2 клетки. Определите, сколько амеб будет через N часов."
      ],
      "metadata": {
        "id": "Zk2xUmHMIrwA"
      }
    },
    {
      "cell_type": "code",
      "source": [
        "print(2**(int(input())//3))"
      ],
      "metadata": {
        "colab": {
          "base_uri": "https://localhost:8080/"
        },
        "id": "orw1boPmNAQf",
        "outputId": "71559906-ccca-4f6e-a2b3-e914769623c5"
      },
      "execution_count": null,
      "outputs": [
        {
          "output_type": "stream",
          "name": "stdout",
          "text": [
            "9\n",
            "8\n"
          ]
        }
      ]
    },
    {
      "cell_type": "markdown",
      "source": [
        "**№3**\n",
        "\n",
        "Год високосный, если для номера этого года верно хотя бы одно из утверждений:\n",
        "\n",
        "- делится на 4, но при этом не делится на 100;\n",
        "\n",
        "- делится на 400.\n",
        "\n",
        "Выведите количество дней в феврале года **y**."
      ],
      "metadata": {
        "id": "_oKyZIA0Ir--"
      }
    },
    {
      "cell_type": "code",
      "source": [
        "y = int(input())\n",
        "if (y % 4 ==0 and y % 100 != 0) or y % 400 == 0:\n",
        "    print(29)\n",
        "else:\n",
        "    print(28)"
      ],
      "metadata": {
        "colab": {
          "base_uri": "https://localhost:8080/"
        },
        "id": "ae7VOhILNGbs",
        "outputId": "8d775ad0-8f8b-4056-b00f-1e2ab172dfc6"
      },
      "execution_count": null,
      "outputs": [
        {
          "output_type": "stream",
          "name": "stdout",
          "text": [
            "2013\n",
            "28\n"
          ]
        }
      ]
    },
    {
      "cell_type": "markdown",
      "source": [
        "**№4**\n",
        "\n",
        "Для введенного натурального числа k напечатайте фразу:\n",
        "\n",
        "Мне k лет\n",
        "\n",
        "Учтите, что при некоторых значениях k слово \"лет\" надо заменить на слово \"год\" или \"года\"."
      ],
      "metadata": {
        "id": "jgvaBxcOIsFb"
      }
    },
    {
      "cell_type": "code",
      "source": [
        "k = int(input())\n",
        "if k % 10 == 1 and k != 11 and k != 111:\n",
        "    print(f'Мне {k} год')\n",
        "elif 2 <= k % 10 <= 4 and k not in [12,13,14,112,113,114]:\n",
        "    print(f'Мне {k} года')\n",
        "else:\n",
        "    print(f'Мне {k} лет')"
      ],
      "metadata": {
        "colab": {
          "base_uri": "https://localhost:8080/"
        },
        "id": "-rnIwk4dNJ84",
        "outputId": "f4be57e8-f23c-40a3-b8d4-7fb7f188eb1e"
      },
      "execution_count": null,
      "outputs": [
        {
          "output_type": "stream",
          "name": "stdout",
          "text": [
            "21\n",
            "Мне 21 год\n"
          ]
        }
      ]
    },
    {
      "cell_type": "markdown",
      "source": [
        "**№5**\n",
        "\n",
        "Дана последовательность вещественных чисел Ai, в которой первый член неотрицателен, а также присутствует хотя бы один член, меньший нуля. Необходимо найти произведение всех элементов последовательности, предшествующих первому отрицательному члену. Пусть n — номер первого отрицательного члена последовательности. Тогда вы должны вычислить:\n",
        "S=A1⋅A2⋅⋯⋅An−1"
      ],
      "metadata": {
        "id": "YhqP7ySDIsJj"
      }
    },
    {
      "cell_type": "code",
      "source": [
        "x = float(input())\n",
        "s = 1.0000\n",
        "while x > 0:\n",
        "    s *= x\n",
        "    x = float(input())\n",
        "print(\"{:f}\".format(s))"
      ],
      "metadata": {
        "colab": {
          "base_uri": "https://localhost:8080/"
        },
        "id": "ic5vObpINNHf",
        "outputId": "8ea5b0a0-de2d-4f7b-f4a8-6bc0c26450d8"
      },
      "execution_count": null,
      "outputs": [
        {
          "output_type": "stream",
          "name": "stdout",
          "text": [
            "1.000000\n",
            "2.500000\n",
            "-3.000000\n",
            "2.500000\n"
          ]
        }
      ]
    },
    {
      "cell_type": "markdown",
      "source": [
        "**№6**\n",
        "\n",
        "Задана последовательность из N целых чисел. Необходимо найти порядковый номер числа с максимальным модулем. Если таких чисел несколько, вывести наибольший номер.\n"
      ],
      "metadata": {
        "id": "AoVULJB5IsWh"
      }
    },
    {
      "cell_type": "code",
      "source": [
        "N = int(input())\n",
        "m = 0\n",
        "for i in range(N):\n",
        "    n = int(input())\n",
        "    if abs(n) >= m:\n",
        "        m = abs(n)\n",
        "        k = i\n",
        "print(k+1)"
      ],
      "metadata": {
        "colab": {
          "base_uri": "https://localhost:8080/"
        },
        "id": "Beq_k6bTNUNP",
        "outputId": "05a51c01-4a43-4430-e38b-12e8cd061e7e"
      },
      "execution_count": null,
      "outputs": [
        {
          "output_type": "stream",
          "name": "stdout",
          "text": [
            "5\n",
            "1\n",
            "-2\n",
            "-8\n",
            "0\n",
            "8\n",
            "5\n"
          ]
        }
      ]
    },
    {
      "cell_type": "markdown",
      "source": [
        "**№7**\n",
        "\n",
        "В первый весенний день на березе распустилось A листьев, а в каждый последующий в 3 раза больше, чем в предыдущий. В какой день на дереве распустится не менее B листьев за один день? Через сколько дней на дереве будет как минимум 1000000 листьев?\n"
      ],
      "metadata": {
        "id": "aATq7puzJJRr"
      }
    },
    {
      "cell_type": "code",
      "source": [
        "from math import log, ceil\n",
        "\n",
        "A, B = map(int, input().split())\n",
        "a1 = A\n",
        "k = max(ceil(log(B/A,3)),0)+1\n",
        "\n",
        "summ = a1\n",
        "day = 1\n",
        "while summ < 1000000:\n",
        "    a1 *= 3\n",
        "    summ += a1\n",
        "    day += 1\n",
        "print(k, day)"
      ],
      "metadata": {
        "colab": {
          "base_uri": "https://localhost:8080/"
        },
        "id": "vXePcZrZNYGw",
        "outputId": "a211d15d-1413-411f-abae-52aba3a728d4"
      },
      "execution_count": null,
      "outputs": [
        {
          "output_type": "stream",
          "name": "stdout",
          "text": [
            "2 18\n",
            "3 13\n"
          ]
        }
      ]
    },
    {
      "cell_type": "markdown",
      "source": [
        "**№8**\n",
        "\n",
        "Дано натуральное число N. Определить, является ли оно простым.\n",
        "\n"
      ],
      "metadata": {
        "id": "EnKkJArtJJbi"
      }
    },
    {
      "cell_type": "code",
      "source": [
        "N = int(input())\n",
        "flag = 0\n",
        "for i in range(2, int(N/2)+1,1):\n",
        "    if N % i == 0:\n",
        "        flag = 1\n",
        "        break\n",
        "print(\"No\" if flag==1 else \"Yes\")"
      ],
      "metadata": {
        "colab": {
          "base_uri": "https://localhost:8080/"
        },
        "id": "bllvB23vNdoZ",
        "outputId": "531c16e0-1d28-4c0e-babf-f2867a515ccf"
      },
      "execution_count": null,
      "outputs": [
        {
          "output_type": "stream",
          "name": "stdout",
          "text": [
            "117\n",
            "No\n"
          ]
        }
      ]
    },
    {
      "cell_type": "markdown",
      "source": [
        "# **Строки и списки**"
      ],
      "metadata": {
        "id": "Bho5LbvXJYT-"
      }
    },
    {
      "cell_type": "markdown",
      "source": [
        "**№1**\n",
        "\n",
        "Дано слово. Добавить к нему в начала и конце столько звёздочек, сколько букв в этом слове."
      ],
      "metadata": {
        "id": "f4d7PyN5Jh5L"
      }
    },
    {
      "cell_type": "code",
      "source": [
        "s = input()\n",
        "print('*'*len(s)+s+'*'*len(s))"
      ],
      "metadata": {
        "colab": {
          "base_uri": "https://localhost:8080/"
        },
        "id": "vZJneLJVNpG0",
        "outputId": "608d1e19-146d-4012-a9eb-54e7e025a086"
      },
      "execution_count": null,
      "outputs": [
        {
          "output_type": "stream",
          "name": "stdout",
          "text": [
            "word\n",
            "****word****\n"
          ]
        }
      ]
    },
    {
      "cell_type": "markdown",
      "source": [
        "**№2**\n",
        "\n",
        "Дана строка, в которой имеются цифры. Найти их сумму."
      ],
      "metadata": {
        "id": "UwdkZs_bJh5M"
      }
    },
    {
      "cell_type": "code",
      "source": [
        "import re\n",
        "\n",
        "\n",
        "s = input()\n",
        "digits = re.findall(\"\\d\", s)\n",
        "d = [int(x) for x in digits]\n",
        "print(sum(d))\n"
      ],
      "metadata": {
        "colab": {
          "base_uri": "https://localhost:8080/"
        },
        "id": "rapaMRuUNpfL",
        "outputId": "264f83b3-f163-4344-cb6e-68f5a04efb32"
      },
      "execution_count": null,
      "outputs": [
        {
          "output_type": "stream",
          "name": "stdout",
          "text": [
            "one - 1, two - 2, three - 3\n",
            "6\n"
          ]
        }
      ]
    },
    {
      "cell_type": "markdown",
      "source": [
        "**№3**\n",
        "\n",
        "Дано слово s1. Получить слово s2, образованное четными буквами слова s1, записанными в обратном порядке."
      ],
      "metadata": {
        "id": "fnSAXPELJh5M"
      }
    },
    {
      "cell_type": "code",
      "source": [
        "s1 = input()\n",
        "print(s1[1::2][::-1])"
      ],
      "metadata": {
        "id": "_M4NcLqMNp9s",
        "colab": {
          "base_uri": "https://localhost:8080/"
        },
        "outputId": "f0382e9b-ca9b-46c9-891e-4e06d2ab76c8"
      },
      "execution_count": null,
      "outputs": [
        {
          "output_type": "stream",
          "name": "stdout",
          "text": [
            "Floccinaucinihilipilification\n",
            "otcflplhncaicl\n"
          ]
        }
      ]
    },
    {
      "cell_type": "markdown",
      "source": [
        "**№4**\n",
        "\n",
        "В строке имеется несколько слов, разделенных одним или несколькими пробелами. Требуется убрать из строки лишние пробелы: два и более пробелов подряд, а также все пробелы в начале и в конце строки.\n"
      ],
      "metadata": {
        "id": "Vn5Nw7VnJh5M"
      }
    },
    {
      "cell_type": "code",
      "source": [
        "s = input()\n",
        "print(\" \".join(s.split()))"
      ],
      "metadata": {
        "id": "NolIgRdwNqS0",
        "colab": {
          "base_uri": "https://localhost:8080/"
        },
        "outputId": "c30a1037-0a77-417f-c45c-f97a604c69ae"
      },
      "execution_count": null,
      "outputs": [
        {
          "output_type": "stream",
          "name": "stdout",
          "text": [
            "   One    Two    Three\n",
            "One Two Three\n"
          ]
        }
      ]
    },
    {
      "cell_type": "markdown",
      "source": [
        "**№5**\n",
        "\n",
        "Дан одномерный массив, состоящий из N целочисленных элементов. Увеличить все его элементы в k раз."
      ],
      "metadata": {
        "id": "IedBa0YCJh5M"
      }
    },
    {
      "cell_type": "code",
      "source": [
        "N = int(input())\n",
        "n = []\n",
        "for i in range(N):\n",
        "    n.append(int(input()))\n",
        "k = int(input())\n",
        "n = [k*x for x in n]\n",
        "print(*n)"
      ],
      "metadata": {
        "id": "z7OjRK_ZNqvL",
        "colab": {
          "base_uri": "https://localhost:8080/"
        },
        "outputId": "4a5042fd-9bda-41d7-e57c-c916366e09ea"
      },
      "execution_count": null,
      "outputs": [
        {
          "output_type": "stream",
          "name": "stdout",
          "text": [
            "10\n",
            "-1\n",
            "2\n",
            "-30\n",
            "9\n",
            "-90\n",
            "3\n",
            "2\n",
            "1\n",
            "10\n",
            "23\n",
            "20\n",
            "-20 40 -600 180 -1800 60 40 20 200 460\n"
          ]
        }
      ]
    },
    {
      "cell_type": "markdown",
      "source": [
        "**№6**\n",
        "\n",
        "Дан массив целых чисел из N элементов. Необходимо заменить максимальный элемент на противоположный по знаку. Если элементов с максимальным значением несколько, замените только первый из них."
      ],
      "metadata": {
        "id": "758AOZp1Jh5M"
      }
    },
    {
      "cell_type": "code",
      "source": [
        "N = int(input())\n",
        "n = input().split()\n",
        "n = [int(x) for x in n]\n",
        "m = n[0]\n",
        "k = 0\n",
        "for i in range(N):\n",
        "    if n[i] > m:\n",
        "        m = n[i]\n",
        "        k = i\n",
        "n[k] = 0 - m\n",
        "print(*n)"
      ],
      "metadata": {
        "id": "vD9otxugNrUP"
      },
      "execution_count": null,
      "outputs": []
    },
    {
      "cell_type": "markdown",
      "source": [
        "**№7**\n",
        "\n",
        "Задан набор из N целых чисел. Найти сумму тех из них, которые заканчиваются на цифру K и при этом не кратны числу M. Исходно сумма полагается равной нулю.\n",
        "\n"
      ],
      "metadata": {
        "id": "Xo9Yl9GiJh5M"
      }
    },
    {
      "cell_type": "code",
      "source": [
        "N, M, K = map(int, input().split())\n",
        "n = input().split()\n",
        "summ = 0\n",
        "for i in range(N):\n",
        "    if int(n[i][-1]) == K and int(n[i]) % M != 0:\n",
        "        summ += int(n[i])\n",
        "print(summ)"
      ],
      "metadata": {
        "id": "Z2J_s-FaNryT",
        "colab": {
          "base_uri": "https://localhost:8080/"
        },
        "outputId": "8fb9dcef-9447-45a7-9ac4-e7b89d88c257"
      },
      "execution_count": null,
      "outputs": [
        {
          "output_type": "stream",
          "name": "stdout",
          "text": [
            "5 3 1\n",
            "8 1 21 -51 -101\n",
            "-100\n"
          ]
        }
      ]
    },
    {
      "cell_type": "markdown",
      "source": [
        "**№8**\n",
        "\n",
        "Дан признак геометрической фигуры на плоскости: k — круг, p — прямоугольник, t — треугольник. Вывести на экран периметр и площадь заданной фигуры.\n",
        "\n"
      ],
      "metadata": {
        "id": "tiHe5v2tJh5M"
      }
    },
    {
      "cell_type": "code",
      "source": [
        "from math import pi, sqrt\n",
        "\n",
        "param = input().split()\n",
        "fig = param[0]\n",
        "if fig == 'k':\n",
        "    r = float(param[-1])\n",
        "    P = 2*pi*r\n",
        "    S = pi*r*r\n",
        "elif fig == 't':\n",
        "    a,b,c = float(param[1]), float(param[2]), float(param[3])\n",
        "    P = a+b+c\n",
        "    p  = P/2\n",
        "    S = sqrt(p*(p-a)*(p-b)*(p-c))\n",
        "else: \n",
        "    a,b = float(param[1]), float(param[2])\n",
        "    P = 2*(a+b)\n",
        "    S = a*b\n",
        "print(round(P,4),round(S,4))"
      ],
      "metadata": {
        "id": "7vft2U9YNsM0",
        "colab": {
          "base_uri": "https://localhost:8080/"
        },
        "outputId": "7b8b2643-c141-4f7f-f3cc-b79becd8f351"
      },
      "execution_count": null,
      "outputs": [
        {
          "output_type": "stream",
          "name": "stdout",
          "text": [
            "k 4.25\n",
            "26.7035 56.745\n"
          ]
        }
      ]
    },
    {
      "cell_type": "markdown",
      "source": [
        "# **Множества и словари**"
      ],
      "metadata": {
        "id": "cQTzuFPWJoot"
      }
    },
    {
      "cell_type": "markdown",
      "source": [
        "**№1**\n",
        "\n",
        "Дана строка. Определить, сколько различных букв в ней без учета регистра."
      ],
      "metadata": {
        "id": "AVphUopwJoou"
      }
    },
    {
      "cell_type": "code",
      "source": [
        "print(len(set(input().lower())))"
      ],
      "metadata": {
        "id": "k_XD3yBrOwHu",
        "colab": {
          "base_uri": "https://localhost:8080/"
        },
        "outputId": "50cb09c5-3452-4eb2-8f76-7ca6050d4c2f"
      },
      "execution_count": null,
      "outputs": [
        {
          "output_type": "stream",
          "name": "stdout",
          "text": [
            "AasdgvSfa\n",
            "6\n"
          ]
        }
      ]
    },
    {
      "cell_type": "markdown",
      "source": [
        "**№2**\n",
        "\n",
        "Дано натуральное четырехзначное число. Определить, повторяются ли какие-либо цифры в записи данного числа.\n"
      ],
      "metadata": {
        "id": "TGgKAZr3Joou"
      }
    },
    {
      "cell_type": "code",
      "source": [
        "print(\"NO\" if len(set(input()))==4 else \"YES\")"
      ],
      "metadata": {
        "id": "e3eviSQkOwhG",
        "colab": {
          "base_uri": "https://localhost:8080/"
        },
        "outputId": "2d76d113-6831-4063-87f0-e6d115a4a12e"
      },
      "execution_count": null,
      "outputs": [
        {
          "output_type": "stream",
          "name": "stdout",
          "text": [
            "123464\n",
            "YES\n"
          ]
        }
      ]
    },
    {
      "cell_type": "markdown",
      "source": [
        "**№3**\n",
        "\n",
        "Даны две строки. Определить, можно ли из букв первой строки получить вторую строку. Повторяющиеся буквы второй строки могут в первой строке не повторяться."
      ],
      "metadata": {
        "id": "jQTYRyQ6Joou"
      }
    },
    {
      "cell_type": "code",
      "source": [
        "s1 = set(input())\n",
        "s2 = set(input())\n",
        "print(s2.issubset(s1))"
      ],
      "metadata": {
        "id": "iI_h713WOw2-",
        "colab": {
          "base_uri": "https://localhost:8080/"
        },
        "outputId": "f9fafb2e-5227-4338-8610-30eb67c8a546"
      },
      "execution_count": null,
      "outputs": [
        {
          "output_type": "stream",
          "name": "stdout",
          "text": [
            "redivider\n",
            "ride\n",
            "True\n"
          ]
        }
      ]
    },
    {
      "cell_type": "markdown",
      "source": [
        "**№4**\n",
        "\n",
        "Дан одномерный массив, элементы которого — целые числа. Удалите из него все элементы, в записи которых все цифры различны."
      ],
      "metadata": {
        "id": "PlsQkUESJoou"
      }
    },
    {
      "cell_type": "code",
      "source": [
        "N = int(input())\n",
        "n = input().split()\n",
        "m = []\n",
        "for i in range(N):\n",
        "    if len(n[i]) != len(set(n[i])):\n",
        "        m.append(n[i])\n",
        "print(*m)"
      ],
      "metadata": {
        "id": "OEj2IUIPOy0u",
        "colab": {
          "base_uri": "https://localhost:8080/"
        },
        "outputId": "bf98d6fe-4fe7-4529-f1a8-423d3b51df5e"
      },
      "execution_count": null,
      "outputs": [
        {
          "output_type": "stream",
          "name": "stdout",
          "text": [
            "4\n",
            "9 8 7 525\n",
            "525\n"
          ]
        }
      ]
    },
    {
      "cell_type": "markdown",
      "source": [
        "**№5**\n",
        "\n",
        "Дана буква английского алфавита. Если это I, V, X, L, C, D, M, то выдать десятичное значение данной римской цифры, иначе вывести число 0."
      ],
      "metadata": {
        "id": "UMWKW5tzJoou"
      }
    },
    {
      "cell_type": "code",
      "source": [
        "d = {'I': 1,\n",
        "     \"V\": 5, \n",
        "     \"X\": 10, \n",
        "     \"L\": 50, \n",
        "     \"C\": 100, \n",
        "     \"D\": 500, \n",
        "     \"M\": 1000\n",
        "}\n",
        "\n",
        "n = input()\n",
        "if n in d.keys():\n",
        "    print(d[n])\n",
        "else:\n",
        "    print(0)"
      ],
      "metadata": {
        "id": "88mlYpAVOzHw",
        "colab": {
          "base_uri": "https://localhost:8080/"
        },
        "outputId": "2ac80a96-7b2d-41ad-b793-9242af979ceb"
      },
      "execution_count": null,
      "outputs": [
        {
          "output_type": "stream",
          "name": "stdout",
          "text": [
            "I\n",
            "1\n"
          ]
        }
      ]
    },
    {
      "cell_type": "markdown",
      "source": [
        "**№6**\n",
        "\n",
        "Даны числа m — порядковый номер масти, и k — номер достоинства карты. Масти нумеруются следующим образом: spades−1, clubs−2, diamonds−3, hearts−4. Достоинства определяются по следующему правилу: ace−14, king−13, queen−12, jack−11, ten−10, ..., six−6. Определить полное название соответствующей карты в формате \"the достоинство of масть\", например, \"the ace of spades\".\n"
      ],
      "metadata": {
        "id": "MDicgAqwJoou"
      }
    },
    {
      "cell_type": "code",
      "source": [
        "d = {'spades': 1,\n",
        "     \"clubs\": 2, \n",
        "     \"diamonds\": 3, \n",
        "     \"hearts\": 4,\n",
        "     'ace': 14,\n",
        "     \"king\": 13, \n",
        "     \"queen\": 12, \n",
        "     \"jack\": 11,\n",
        "     \"ten\": 10,\n",
        "     \"nine\": 9,\n",
        "     \"eight\": 8,\n",
        "     'seven': 7,\n",
        "     'six': 6\n",
        "}\n",
        "\n",
        "m, k = map(int, input().split())\n",
        "d_items = d.items()\n",
        "for x in d_items:\n",
        "    if m == x[1]:\n",
        "        s1 = x[0]\n",
        "    if k == x[1]:\n",
        "        s2 = x[0]\n",
        "print(f'the {s2} of {s1}')"
      ],
      "metadata": {
        "id": "bb4naOKyOzdo",
        "colab": {
          "base_uri": "https://localhost:8080/"
        },
        "outputId": "14f6f750-d821-481d-e0ae-ad268994a2df"
      },
      "execution_count": null,
      "outputs": [
        {
          "output_type": "stream",
          "name": "stdout",
          "text": [
            "4 13\n",
            "the king of hearts\n"
          ]
        }
      ]
    },
    {
      "cell_type": "markdown",
      "source": [
        "**№7**\n",
        "\n",
        "Даны две строки. Определить, можно ли из букв первой строки получить вторую строку. Каждая буква второй строки должна входить в первое слово как минимум столько же раз, сколько раз она встречается во втором.\n"
      ],
      "metadata": {
        "id": "hjFqNLzqJoou"
      }
    },
    {
      "cell_type": "code",
      "source": [
        "s1 = input()\n",
        "s2 = input()\n",
        "set1 = set(s1)\n",
        "set2 = set(s2)\n",
        "res = \"True\"\n",
        "if set2.issubset(set1):\n",
        "    for x in s2:\n",
        "        flag = (s1.count(x) >= s2.count(x))\n",
        "        if not flag:\n",
        "            res = \"False\"\n",
        "            break\n",
        "    print(res)\n",
        "else:\n",
        "    print(\"False\")"
      ],
      "metadata": {
        "id": "X80h734UOztA",
        "colab": {
          "base_uri": "https://localhost:8080/"
        },
        "outputId": "75af1f9e-23bd-4313-cbd0-d68cbed46ac6"
      },
      "execution_count": null,
      "outputs": [
        {
          "output_type": "stream",
          "name": "stdout",
          "text": [
            "redivider\n",
            "divider\n",
            "True\n"
          ]
        }
      ]
    },
    {
      "cell_type": "markdown",
      "source": [
        "**№8**\n",
        "\n",
        "Дана строка, состоящая из строчных латинских букв. Вывести в алфавитном порядке те буквы, которые встречаются только один раз.\n",
        "\n"
      ],
      "metadata": {
        "id": "vHaJyR2yJoou"
      }
    },
    {
      "cell_type": "code",
      "source": [
        "from string import ascii_lowercase as B \n",
        "\n",
        "s = input()\n",
        "d = {x: 0 for x in B}\n",
        "for x in s:\n",
        "    d[x] += 1\n",
        "p = ''\n",
        "for k, v in d.items():\n",
        "    if v == 1:\n",
        "        p += k \n",
        "print(p)"
      ],
      "metadata": {
        "id": "tJ4FpvxKO0HQ",
        "colab": {
          "base_uri": "https://localhost:8080/"
        },
        "outputId": "02afffef-ea37-4879-b31c-5dc0ef500eff"
      },
      "execution_count": null,
      "outputs": [
        {
          "output_type": "stream",
          "name": "stdout",
          "text": [
            "honorificabilitudinitatibus\n",
            "cdfhlrs\n"
          ]
        }
      ]
    },
    {
      "cell_type": "markdown",
      "source": [
        "# **Функции**"
      ],
      "metadata": {
        "id": "iNHN8PrxWvTC"
      }
    },
    {
      "cell_type": "markdown",
      "source": [
        "**№1**\n",
        "\n",
        "Дано натуральное число N и целые числа a1,a2,…,aN. Найти количество чисел ai (i=1,2,…,N), являющихся степенями пятерки. Решить задачу с помощью подпрограммы, которая позволяет распознавать степени пятерки"
      ],
      "metadata": {
        "id": "WDkXmnwY5J0Q"
      }
    },
    {
      "cell_type": "code",
      "execution_count": null,
      "metadata": {
        "colab": {
          "base_uri": "https://localhost:8080/"
        },
        "id": "9D1KvFFKKuEh",
        "outputId": "fccf1129-27ce-427e-da0b-48ffbf7f5432"
      },
      "outputs": [
        {
          "output_type": "stream",
          "name": "stdout",
          "text": [
            "7\n",
            "5 10 15 20 25 30 35\n",
            "2\n"
          ]
        }
      ],
      "source": [
        "def power_five(x):\n",
        "    while x % 5 == 0:\n",
        "        x = x//5\n",
        "    if x == 1:\n",
        "        return True\n",
        "    else:\n",
        "        return False\n",
        "\n",
        "N = int(input())\n",
        "a = [int(x) for x in input().split()]\n",
        "print(len(([1 for x in a if power_five(x)])))"
      ]
    },
    {
      "cell_type": "markdown",
      "source": [
        "**№2**\n",
        "\n",
        "Проверить гипотезу Гольдбаха: каждое четное число, большее двух, можно представить в виде суммы двух простых чисел. Решить задачу с помощью подпрограммы, которая позволяет распознавать простые числа."
      ],
      "metadata": {
        "id": "CoX5piL45ghr"
      }
    },
    {
      "cell_type": "code",
      "source": [
        "from math import sqrt\n",
        "\n",
        "def prime(x):\n",
        "    if 1 <= x <= 3:\n",
        "        return True\n",
        "    for i in range(2, int(sqrt(x))+1):\n",
        "        if x % i == 0:\n",
        "            return False\n",
        "    return True\n",
        "\n",
        "N = int(input())\n",
        "for i in range(2, N):\n",
        "    if prime(i) and prime(N-i):\n",
        "        print(i, N-i)\n",
        "        break"
      ],
      "metadata": {
        "id": "B_mOBTjGWuwa",
        "colab": {
          "base_uri": "https://localhost:8080/"
        },
        "outputId": "92ce760d-6819-4f8c-d57f-bb4d1b1f9e19"
      },
      "execution_count": null,
      "outputs": [
        {
          "output_type": "stream",
          "name": "stdout",
          "text": [
            "10\n",
            "3 7\n"
          ]
        }
      ]
    },
    {
      "cell_type": "markdown",
      "source": [
        "**№3**\n",
        "\n",
        "Составьте процедуру, которая в данном одномерном массиве меняет местами минимальный и последний элемент. Если минимальных элементов в массиве несколько, выберите элемент с наименьшим индексом. Примените процедуру к каждому столбцу заданной прямоугольной матрицы."
      ],
      "metadata": {
        "id": "hDBRg4Vb5qxU"
      }
    },
    {
      "cell_type": "code",
      "source": [
        "def func(m):\n",
        "    k_min = 0\n",
        "    min = m[0]\n",
        "    for i in range(len(m)):\n",
        "        if m[i] < min:\n",
        "            min = m[i]\n",
        "            k_min = i\n",
        "    m[k_min], m[-1] = m[-1], m[k_min]\n",
        "    return m\n",
        "\n",
        "n, m = map(int, input().split())\n",
        "a = [[int(x) for x in input().split()] for i in range(n)]\n",
        "a = [list(i) for i in zip(*a)]\n",
        "for i in range(m):\n",
        "    a[i] = func(a[i])\n",
        "\n",
        "a = [list(i) for i in zip(*a)]\n",
        "print()\n",
        "for i in range(n):\n",
        "    print(' '.join(map(str, a[i])))"
      ],
      "metadata": {
        "id": "gHAvhhQpaksE",
        "colab": {
          "base_uri": "https://localhost:8080/"
        },
        "outputId": "84b57583-9610-46fd-8303-122bc36b5dd9"
      },
      "execution_count": null,
      "outputs": [
        {
          "output_type": "stream",
          "name": "stdout",
          "text": [
            "3 3\n",
            "1 2 3\n",
            "2 3 1\n",
            "3 1 2\n",
            "\n",
            "3 2 3\n",
            "2 3 2\n",
            "1 1 1\n"
          ]
        }
      ]
    },
    {
      "cell_type": "markdown",
      "source": [
        "**№4**\n",
        "\n",
        "Составить подпрограмму, которая заменяет в двумерном массиве четные элементы на нули.Проверить, будут ли равны два массива A и B после применения к ним этой подпрограммы."
      ],
      "metadata": {
        "id": "PiKK6ISM5zYb"
      }
    },
    {
      "cell_type": "code",
      "source": [
        "def matrix(n,m,A):\n",
        "    for i in range(n):\n",
        "        for j in range(m):\n",
        "            if A[i][j] % 2 == 0:\n",
        "                A[i][j] = 0\n",
        "    return A\n",
        "\n",
        "n, m = map(int, input().split())\n",
        "A = [[int(x) for x in input().split()] for i in range(n)]\n",
        "B = [[int(x) for x in input().split()] for i in range(n)]\n",
        " \n",
        "print(\"YES\" if matrix(n,m,A)==matrix(n,m,B) else \"NO\")"
      ],
      "metadata": {
        "colab": {
          "base_uri": "https://localhost:8080/"
        },
        "id": "SfRE7mQXbbHp",
        "outputId": "c8464e61-0948-4b16-f608-d0a4de6c199c"
      },
      "execution_count": null,
      "outputs": [
        {
          "output_type": "stream",
          "name": "stdout",
          "text": [
            "3 3\n",
            "1 2 6\n",
            "4 3 2\n",
            "8 7 1\n",
            "1 100 10\n",
            "2 3 20\n",
            "6 7 1\n",
            "YES\n"
          ]
        }
      ]
    },
    {
      "cell_type": "markdown",
      "source": [
        "**№5**\n",
        "\n",
        "Составить подпрограмму транспонирования прямоугольной матрицы. Получить транспонированнную матрицу для матрицы размерности n на m."
      ],
      "metadata": {
        "id": "qb1OzNHj6AHX"
      }
    },
    {
      "cell_type": "code",
      "source": [
        "def transpose(n,m,A):\n",
        "    if n == m:\n",
        "        B = [[A[j][i] for j in range(m)] for i in range(n)]\n",
        "    else:\n",
        "        B = []\n",
        "        for j in range(m):\n",
        "            tmp=[]\n",
        "            for i in range(n):\n",
        "                tmp += [A[i][j]]\n",
        "            B += [tmp]\n",
        "    return B\n",
        "\n",
        "n, m = map(int, input().split())\n",
        "A = [[int(x) for x in input().split()] for i in range(n)]\n",
        "print()\n",
        "for row in transpose(n,m,A):\n",
        "    print(*row)"
      ],
      "metadata": {
        "id": "dkNT8-mD0zlz",
        "colab": {
          "base_uri": "https://localhost:8080/"
        },
        "outputId": "ae24de78-cd49-49b1-ed03-be19fecd6791"
      },
      "execution_count": null,
      "outputs": [
        {
          "output_type": "stream",
          "name": "stdout",
          "text": [
            "2 3\n",
            "1 2 6\n",
            "4 3 2\n",
            "\n",
            "1 4\n",
            "2 3\n",
            "6 2\n"
          ]
        }
      ]
    },
    {
      "cell_type": "markdown",
      "source": [
        "**№6**\n",
        "\n",
        "Составить подпрограмму перемножения матриц. С ее помощью вычислить n-ю степень квадратной матрицы A размера n на n.\n"
      ],
      "metadata": {
        "id": "vPICK4Op6Kff"
      }
    },
    {
      "cell_type": "code",
      "source": [
        "def multiplicate(A, B):\n",
        "    n, m, k = len(A), len(A[0]), len(B[0])\n",
        "    c = [[0]*k for i in range(n)]\n",
        "    for i in range(n):\n",
        "        for j in range(k):\n",
        "            tmp = 0\n",
        "            for r in range(m):\n",
        "                tmp += A[i][r] * B[r][j]\n",
        "            c[i][j] = tmp\n",
        "    return c\n",
        "            \n",
        "\n",
        "n = int(input())\n",
        "A = [[float(x) for x in input().split()] for i in range(n)]\n",
        "if n == 2:\n",
        "    B = multiplicate(A, A)\n",
        "else:\n",
        "    k = 2\n",
        "    B = multiplicate(A,A)\n",
        "    while k < n:\n",
        "        B = multiplicate(A, B)\n",
        "        k += 1\n",
        "print()\n",
        "for i in range(len(B)):\n",
        "    B[i] = [\"{:.3f}\".format(x) for x in B[i]]\n",
        "    print(' '.join(B[i]))"
      ],
      "metadata": {
        "id": "PALVQDFi75PV",
        "colab": {
          "base_uri": "https://localhost:8080/"
        },
        "outputId": "c675e7ff-36f1-4e7a-e55c-de8ae592527a"
      },
      "execution_count": null,
      "outputs": [
        {
          "output_type": "stream",
          "name": "stdout",
          "text": [
            "2\n",
            "0.5 2\n",
            "1 0\n",
            "\n",
            "2.250 1.000\n",
            "0.500 2.000\n"
          ]
        }
      ]
    },
    {
      "cell_type": "markdown",
      "source": [
        "**№7**\n",
        "\n",
        "Дано N строк. В каждой из них есть несколько пар круглых скобок. Написать подпрограмму, которая в данной строке удаляет круглые скобки вместе с текстом, который заключен между ними. Применить эту подпрограмму к каждой из данных строк."
      ],
      "metadata": {
        "id": "Mq_SXLSu6Rg_"
      }
    },
    {
      "cell_type": "code",
      "source": [
        "def deleteS(s):\n",
        "    new_s = ''\n",
        "    left = False\n",
        "    right = False\n",
        "    for x in s:\n",
        "        if x == '(':\n",
        "            left = True\n",
        "        if x == ')':\n",
        "            right = True\n",
        "        if not left and not right:\n",
        "            new_s += x\n",
        "        if left and right:\n",
        "            left = False\n",
        "            right = False\n",
        "    return new_s\n",
        "    \n",
        "n = int(input())\n",
        "for _ in range(n):\n",
        "    s = input()\n",
        "    print(deleteS(s))"
      ],
      "metadata": {
        "id": "CyCSKotm8X75",
        "colab": {
          "base_uri": "https://localhost:8080/"
        },
        "outputId": "584cd000-f082-47b2-a566-e0bc44674d7f"
      },
      "execution_count": null,
      "outputs": [
        {
          "output_type": "stream",
          "name": "stdout",
          "text": [
            "3\n",
            "hello(world)\n",
            "hello\n",
            "abacaba\n",
            "abacaba\n",
            "aba(a)bba(aab)c\n",
            "ababbac\n"
          ]
        }
      ]
    },
    {
      "cell_type": "markdown",
      "source": [
        "**№8**\n",
        "\n",
        "Напишите функцию для вычисления k-го члена последовательности Фибоначчи. Последовательность Фибоначчи образуется по закону: \n",
        "\n",
        "f_1=1,\n",
        "\n",
        "f_2=1,\n",
        "\n",
        "fi=f_{i−1}+f_{i−2} (i=3,4,...)."
      ],
      "metadata": {
        "id": "CsKh8WqF6ZTf"
      }
    },
    {
      "cell_type": "code",
      "source": [
        "def fib(n):\n",
        "    if 0 <= n <= 1:\n",
        "        return n\n",
        "    else:\n",
        "        res = [0, 1]\n",
        "        for i in range(2,n+1):\n",
        "            res.append(res[i-1]+res[i-2])\n",
        "        return res[n]\n",
        "\n",
        "\n",
        "n = int(input())\n",
        "print(fib(n))"
      ],
      "metadata": {
        "colab": {
          "base_uri": "https://localhost:8080/"
        },
        "id": "e6KmYOk_8fnq",
        "outputId": "aaa66295-0f2d-4124-d9d4-f745e055e701"
      },
      "execution_count": null,
      "outputs": [
        {
          "output_type": "stream",
          "name": "stdout",
          "text": [
            "3\n",
            "2\n"
          ]
        }
      ]
    },
    {
      "cell_type": "markdown",
      "source": [
        "# **Файлы и сортировки**"
      ],
      "metadata": {
        "id": "TjmAeUYE6NWM"
      }
    },
    {
      "cell_type": "markdown",
      "source": [
        "**№1**\n",
        "\n",
        "Дан текстовый файл. Найдите первые символы всех непустых строк."
      ],
      "metadata": {
        "id": "-fX-Wcom6xbq"
      }
    },
    {
      "cell_type": "code",
      "source": [
        "s = ''\n",
        "\n",
        "with open(\"/content/input1.txt\", \"r\") as file:\n",
        "    for line in file:\n",
        "        if line != '\\n':\n",
        "            s += line[0]\n",
        "with open(\"/content/output1.txt\", \"w\") as file:\n",
        "    file.write(s)\n"
      ],
      "metadata": {
        "id": "vl_LdWSn6NDe"
      },
      "execution_count": null,
      "outputs": []
    },
    {
      "cell_type": "markdown",
      "source": [
        "**№2**\n",
        "\n",
        "Дан текстовый файл. Требуется получить строку, образованную k - ми символами каждой строки."
      ],
      "metadata": {
        "id": "TnmSnJEF65Rq"
      }
    },
    {
      "cell_type": "code",
      "source": [
        "s = ''\n",
        "\n",
        "with open(\"/content/input2.txt\", \"r\") as file:\n",
        "    lines = file.readlines()\n",
        "lines = [line.rstrip() for line in lines]\n",
        "k = int(lines[0])\n",
        "for line in lines:\n",
        "    if line != '\\n':\n",
        "        if len(line) >= k:\n",
        "            s += line[k-1]\n",
        "with open(\"/content/output2.txt\", \"w\") as file:\n",
        "    file.write(s)"
      ],
      "metadata": {
        "id": "akc_nOiF8f76"
      },
      "execution_count": null,
      "outputs": []
    },
    {
      "cell_type": "markdown",
      "source": [
        "**№3**\n",
        "\n",
        "Дан текстовый файл. Найдите в нем самую длинную строку и ее длину. Если таких строк несколько, выведите первую."
      ],
      "metadata": {
        "id": "50q2V97n6-pQ"
      }
    },
    {
      "cell_type": "code",
      "source": [
        "s = ''\n",
        "lenS = 0\n",
        "\n",
        "with open(\"/content/input3.txt\", \"r\") as file:\n",
        "    lines = file.readlines()\n",
        "lines = [line.rstrip() for line in lines]\n",
        "for x in lines:\n",
        "    if x != '\\n':\n",
        "        if len(x) > lenS:\n",
        "            lenS = len(x)\n",
        "            s = x\n",
        "with open(\"/content/output3.txt\", \"w\") as file:\n",
        "    file.write(s+'\\n')\n",
        "    file.write(str(lenS))"
      ],
      "metadata": {
        "id": "8QpuMjSB-C3O"
      },
      "execution_count": null,
      "outputs": []
    },
    {
      "cell_type": "markdown",
      "source": [
        "**№4**\n",
        "\n",
        "Дан текстовый файл. Найдите номер самой длинной строки. Если таких строк несколько, выведите номер первой из них."
      ],
      "metadata": {
        "id": "Cfa-kCXf7Il2"
      }
    },
    {
      "cell_type": "code",
      "source": [
        "numb = 0\n",
        "lenS = 0\n",
        "\n",
        "with open(\"/content/input4.txt\", \"r\") as file:\n",
        "    lines = file.readlines()\n",
        "lines = [line.rstrip() for line in lines]\n",
        "for i in range(len(lines)):\n",
        "    if lines[i] != '\\n':\n",
        "        if len(lines[i]) > lenS:\n",
        "            lenS = len(lines[i])\n",
        "            numb = i+1  \n",
        "with open(\"/content/output4.txt\", \"w\") as file:\n",
        "    file.write(str(numb))"
      ],
      "metadata": {
        "id": "z2RIj07uAuK5"
      },
      "execution_count": null,
      "outputs": []
    },
    {
      "cell_type": "markdown",
      "source": [
        "**№5**\n",
        "\n",
        "В текстовом файле содержатся записи о студентах. Для каждого студента известны его фамилия, имя, отчество, год рождения, оценки по пяти предметам. Необходимо отсортировать по возрастанию средней оценки (гарантируется, что средние оценки не повторяются)."
      ],
      "metadata": {
        "id": "hMaO6CPt7Nu6"
      }
    },
    {
      "cell_type": "code",
      "source": [
        "with open('/content/input5.txt', 'r') as file:\n",
        "    N = int(file.readline())\n",
        "    students = []\n",
        "    for line in file:\n",
        "        if line != '\\n':\n",
        "            line = line.split()\n",
        "            F, I, O, Y, G = line[0], line[1], line[2], line[3], line[4:]\n",
        "            Y = int(Y)\n",
        "            G = [int(x) for x in G]\n",
        "            students.append([F, I, O, Y, G])\n",
        "students = sorted(students, key=lambda student: sum(student[4])/len(student[4]))\n",
        "with open('/content/output5.txt', 'w') as file:\n",
        "    perenos = '\\n'\n",
        "    for i in range(N):\n",
        "        students[i][4] = ' '.join(map(str, students[i][4]))\n",
        "        if i == N-1:\n",
        "            perenos = ''\n",
        "        file.write(' '.join(map(str, students[i]))+perenos)"
      ],
      "metadata": {
        "id": "j2XP_13mCEKx"
      },
      "execution_count": null,
      "outputs": []
    },
    {
      "cell_type": "markdown",
      "source": [
        "**№6**\n",
        "\n",
        "В текстовом файле содержатся записи о студентах. Для каждого студента известны его фамилия, имя, отчество, год рождения, оценки по пяти предметам. Необходимо отсортировать в алфавитном порядке по фамилии, а затем по убыванию года рождения."
      ],
      "metadata": {
        "id": "iomcWDO87SUQ"
      }
    },
    {
      "cell_type": "code",
      "source": [
        "with open('/content/input6.txt', 'r') as file:\n",
        "    N = int(file.readline())\n",
        "    students = []\n",
        "    for line in file:\n",
        "        if line != '\\n':\n",
        "            line = line.split()\n",
        "            F, I, O, Y, G = line[0], line[1], line[2], line[3], line[4:]\n",
        "            Y = int(Y)\n",
        "            G = [int(x) for x in G]\n",
        "            students.append([F, I, O, Y, G])\n",
        "students = sorted(students, key=lambda student: (student[0], -student[3]))\n",
        "with open('/content/output6.txt', 'w') as file:\n",
        "    perenos = '\\n'\n",
        "    for i in range(N):\n",
        "        students[i][4] = ' '.join(map(str, students[i][4]))\n",
        "        if i == N-1:\n",
        "            perenos = ''\n",
        "        file.write(' '.join(map(str, students[i]))+perenos)"
      ],
      "metadata": {
        "id": "LlMVC1d4FGbc"
      },
      "execution_count": null,
      "outputs": []
    },
    {
      "cell_type": "markdown",
      "source": [
        "**№7**\n",
        "\n",
        "Дана квадратная матрица размерностью N×N содержащая целые числа. Необходимо отсортировать каждую строчку матрицы по убыванию элементов."
      ],
      "metadata": {
        "id": "FA0fIAb07aUi"
      }
    },
    {
      "cell_type": "code",
      "source": [
        "with open('/content/input7.txt', 'r') as file:\n",
        "    N = int(file.readline())\n",
        "    matrix = []\n",
        "    for line in file:\n",
        "        if line != '\\n':\n",
        "            matrix.append(sorted([int(x) for x in line.split()], reverse=True))\n",
        "with open('/content/output7.txt', 'w') as file:\n",
        "    perenos = '\\n'\n",
        "    for i in range(N):\n",
        "        if i == N-1:\n",
        "            perenos = ''\n",
        "        file.write(' '.join(map(str, matrix[i]))+perenos)"
      ],
      "metadata": {
        "id": "nSclOv3hFOAE"
      },
      "execution_count": null,
      "outputs": []
    },
    {
      "cell_type": "markdown",
      "source": [
        "**№8**\n",
        "\n",
        "Дана квадратная матрица размерностью N×N содержащая целые числа.Необходимо отсортировать каждый столбец матрицы по возрастанию элементов."
      ],
      "metadata": {
        "id": "iHbVTWXx7gdX"
      }
    },
    {
      "cell_type": "code",
      "source": [
        "with open('/content/input8.txt', 'r') as file:\n",
        "    N = int(file.readline())\n",
        "    matrix = []\n",
        "    for line in file:\n",
        "        if line:\n",
        "            matrix.append([int(x) for x in line.split()])\n",
        "matrix = [list(x) for x in zip(*matrix)]\n",
        "matrix = [sorted(x) for x in matrix]\n",
        "matrix = [list(x) for x in zip(*matrix)]\n",
        "with open('/content/output8.txt', 'w') as file:\n",
        "    perenos = '\\n'\n",
        "    for i in range(N):\n",
        "        if i == N-1:\n",
        "            perenos = ''\n",
        "        file.write(' '.join(map(str, matrix[i]))+perenos)"
      ],
      "metadata": {
        "id": "XeFV4HTjFTRE"
      },
      "execution_count": null,
      "outputs": []
    },
    {
      "cell_type": "markdown",
      "source": [
        "**№9**\n",
        "\n",
        "В текстовом файле содержатся записи о поставках товаров. Для каждой поставки указано наименование поставленного товара, фирма-производитель и количество. Необходимо вывести первые 10 поставок списка, полученного в результате сортировки исходного списка по наименованию товара (при совпадении наименований поставки сортируются по количеству товара в порядке невозрастания, при совпадении наименования и количества сохраняется исходный порядок) и исключения из списка поставок товаров фирмы, указанной в последней строке файла."
      ],
      "metadata": {
        "id": "Jr0451si7mGH"
      }
    },
    {
      "cell_type": "code",
      "source": [
        "with open('/content/input9.txt', 'r') as file:\n",
        "    N = int(file.readline().rstrip())\n",
        "    kol = 1\n",
        "    inf = []\n",
        "    for line in file:\n",
        "        if line:\n",
        "            if kol <= N:\n",
        "                NAME, F, K = line.rstrip().split()\n",
        "                K = int(K)\n",
        "                inf.append([NAME, F, K])\n",
        "                kol += 1\n",
        "            else:\n",
        "                iskl = line.rstrip()\n",
        "inf = sorted(inf, key=lambda x: (x[0], -x[2]))\n",
        "inf = [x for x in inf if x[1] != iskl]\n",
        "\n",
        "with open('/content/output9.txt', 'w') as file:\n",
        "    perenos = '\\n'\n",
        "    if len(inf) < 10:\n",
        "        n = len(inf)\n",
        "    else:\n",
        "        n = 10\n",
        "    for i in range(n):\n",
        "        inf[i][2] = str(inf[i][2])\n",
        "        if i == n-1:\n",
        "            perenos = ''\n",
        "        file.write(' '.join(map(str, inf[i]))+perenos)"
      ],
      "metadata": {
        "id": "t2vurOryFYAR"
      },
      "execution_count": null,
      "outputs": []
    },
    {
      "cell_type": "markdown",
      "source": [
        "**№10**\n",
        "\n",
        "Дан набор из N карт — подмножество стандартной колоды из 52 карт. Необходимо сортировать карты каждой масти по рангу (2, 3, ..., 10, валет 11, дама 12, король 13, туз 14). Порядок, в котором следует расположить масти, также задан."
      ],
      "metadata": {
        "id": "wwoeV2bK7v6g"
      }
    },
    {
      "cell_type": "code",
      "source": [
        "with open('/content/input10.txt', 'r') as file:\n",
        "    N = int(file.readline().rstrip())\n",
        "    d = {'p': [], 'c': [], 'b': [], 'k': []}\n",
        "    for i in range(N+1):\n",
        "            if i < N:\n",
        "                num, m = file.readline().rstrip().split() \n",
        "                num = int(num)\n",
        "                d[m].append(num)\n",
        "            else:\n",
        "                por = file.readline().rstrip()\n",
        "with open('/content/output10.txt', 'w') as file:\n",
        "    kol = 0\n",
        "    for x in por:\n",
        "        s = ' '.join([f'{x}' for x in sorted(d[x])])\n",
        "        if kol < 3:\n",
        "            file.write(f'{x}: '+ s +'\\n')\n",
        "        else:\n",
        "            file.write(f'{x}: '+ s )\n",
        "        kol += 1"
      ],
      "metadata": {
        "id": "6lBWVtfrFiOw"
      },
      "execution_count": null,
      "outputs": []
    },
    {
      "cell_type": "markdown",
      "source": [
        "# **NumPy 1**"
      ],
      "metadata": {
        "id": "4Yu5tLhOq20Y"
      }
    },
    {
      "cell_type": "markdown",
      "source": [
        "1. Сгенерировать матрицу размером 4 × 9, заполненную целыми числами.\n",
        "2. Вывести на экран элемент с индексами [2, 6].\n",
        "3. Вывести на экран каждый второй элемент третьей строки матрицы.\n",
        "4. Вывести на экран элементы последнего столбца в обратном порядке.\n",
        "5. Изменить форму матрицы с 4 × 9 на 6 × 6.\n",
        "6. Возвести каждый элемент матрицы в заданную степень.\n",
        "7. Найти минимум на главной диагонали.\n",
        "8. Найти максимальный элемент в предпоследнем столбце.\n",
        "9. Определить, образуют ли элементы сжатого до одной оси массива невозрастающую последовательность.\n",
        "10. Подсчитать произведение ненулевых элементов на побочной диагонали."
      ],
      "metadata": {
        "id": "V2b4t5WFTvpu"
      }
    },
    {
      "cell_type": "code",
      "source": [
        "import numpy as np\n",
        "np.random.seed(0)\n",
        "\n",
        "mas = np.random.randint(0, 10, (4,9)) # целые числа в промежутке от 0 до 10\n",
        "print(\"1)\", mas)"
      ],
      "metadata": {
        "colab": {
          "base_uri": "https://localhost:8080/"
        },
        "id": "xivscRhwTtly",
        "outputId": "44e6328c-08bc-49da-bb95-0e96c0ea1dc8"
      },
      "execution_count": null,
      "outputs": [
        {
          "output_type": "stream",
          "name": "stdout",
          "text": [
            "1) [[5 0 3 3 7 9 3 5 2]\n",
            " [4 7 6 8 8 1 6 7 7]\n",
            " [8 1 5 9 8 9 4 3 0]\n",
            " [3 5 0 2 3 8 1 3 3]]\n"
          ]
        }
      ]
    },
    {
      "cell_type": "code",
      "source": [
        "print(\"2)\", mas[2,6])"
      ],
      "metadata": {
        "colab": {
          "base_uri": "https://localhost:8080/"
        },
        "id": "VRLgk5rDT09G",
        "outputId": "0084f2de-703a-4896-eb3c-cf45b15f53cc"
      },
      "execution_count": null,
      "outputs": [
        {
          "output_type": "stream",
          "name": "stdout",
          "text": [
            "2) 4\n"
          ]
        }
      ]
    },
    {
      "cell_type": "code",
      "source": [
        "print(\"3)\", mas[2, 1::2]) "
      ],
      "metadata": {
        "colab": {
          "base_uri": "https://localhost:8080/"
        },
        "id": "UwbDgwgJT4By",
        "outputId": "aaf72397-df50-4bbe-e2ac-339f81d057ea"
      },
      "execution_count": null,
      "outputs": [
        {
          "output_type": "stream",
          "name": "stdout",
          "text": [
            "3) [1 9 9 3]\n"
          ]
        }
      ]
    },
    {
      "cell_type": "code",
      "source": [
        "print(\"4)\", mas[::-1,-1])"
      ],
      "metadata": {
        "colab": {
          "base_uri": "https://localhost:8080/"
        },
        "id": "k37UG9B4T6LM",
        "outputId": "bbca8bdc-1a5f-4448-9bee-f223d25014a8"
      },
      "execution_count": null,
      "outputs": [
        {
          "output_type": "stream",
          "name": "stdout",
          "text": [
            "4) [3 0 7 2]\n"
          ]
        }
      ]
    },
    {
      "cell_type": "code",
      "source": [
        "mas = mas.reshape(6, 6)\n",
        "print(\"5)\", mas)"
      ],
      "metadata": {
        "colab": {
          "base_uri": "https://localhost:8080/"
        },
        "id": "yJnRY-g0T86y",
        "outputId": "9a402e95-6f4a-4663-871b-266ad7aad10b"
      },
      "execution_count": null,
      "outputs": [
        {
          "output_type": "stream",
          "name": "stdout",
          "text": [
            "5) [[5 0 3 3 7 9]\n",
            " [3 5 2 4 7 6]\n",
            " [8 8 1 6 7 7]\n",
            " [8 1 5 9 8 9]\n",
            " [4 3 0 3 5 0]\n",
            " [2 3 8 1 3 3]]\n"
          ]
        }
      ]
    },
    {
      "cell_type": "code",
      "source": [
        "s = int(input('Степень = '))\n",
        "print(\"6)\", mas**s)"
      ],
      "metadata": {
        "colab": {
          "base_uri": "https://localhost:8080/"
        },
        "id": "IcVKN9bCT9BF",
        "outputId": "3738e616-b6b1-4f3c-dae6-1e406d699e65"
      },
      "execution_count": null,
      "outputs": [
        {
          "output_type": "stream",
          "name": "stdout",
          "text": [
            "Степень = 3\n",
            "6) [[125   0  27  27 343 729]\n",
            " [ 27 125   8  64 343 216]\n",
            " [512 512   1 216 343 343]\n",
            " [512   1 125 729 512 729]\n",
            " [ 64  27   0  27 125   0]\n",
            " [  8  27 512   1  27  27]]\n"
          ]
        }
      ]
    },
    {
      "cell_type": "code",
      "source": [
        "print(\"7)\", np.min(mas.diagonal()))"
      ],
      "metadata": {
        "colab": {
          "base_uri": "https://localhost:8080/"
        },
        "id": "1vhB5gc6UCK6",
        "outputId": "148593fc-77b4-433b-b3a6-a94942fcf06d"
      },
      "execution_count": null,
      "outputs": [
        {
          "output_type": "stream",
          "name": "stdout",
          "text": [
            "7) 1\n"
          ]
        }
      ]
    },
    {
      "cell_type": "code",
      "source": [
        "print(\"8)\", np.max(mas[:, -2]))"
      ],
      "metadata": {
        "colab": {
          "base_uri": "https://localhost:8080/"
        },
        "id": "5lRalm1yUFBH",
        "outputId": "0555e610-7f02-4a08-8701-6468e6182028"
      },
      "execution_count": null,
      "outputs": [
        {
          "output_type": "stream",
          "name": "stdout",
          "text": [
            "8) 8\n"
          ]
        }
      ]
    },
    {
      "cell_type": "code",
      "source": [
        "print(\"9)\", \"YES\" if np.array_equal(-np.sort(-np.ravel(mas)),np.ravel(mas)) else \"NO\") "
      ],
      "metadata": {
        "id": "0UXrKZyoUHDd",
        "outputId": "c0c26b9d-bf1b-4084-f8bf-fda62a83eb02",
        "colab": {
          "base_uri": "https://localhost:8080/"
        }
      },
      "execution_count": null,
      "outputs": [
        {
          "output_type": "stream",
          "name": "stdout",
          "text": [
            "9) NO\n"
          ]
        }
      ]
    },
    {
      "cell_type": "code",
      "source": [
        "d = np.diag(np.fliplr(mas))\n",
        "print(\"10)\", np.prod(d[d != 0]))"
      ],
      "metadata": {
        "id": "kidp77wxUJ-f",
        "outputId": "d69fd392-df02-493c-b9e5-983c5c365ab7",
        "colab": {
          "base_uri": "https://localhost:8080/"
        }
      },
      "execution_count": null,
      "outputs": [
        {
          "output_type": "stream",
          "name": "stdout",
          "text": [
            "10) 11340\n"
          ]
        }
      ]
    },
    {
      "cell_type": "markdown",
      "source": [
        "# **Numpy 2**"
      ],
      "metadata": {
        "id": "VOyxjEGaTjcK"
      }
    },
    {
      "cell_type": "code",
      "source": [
        "import numpy as np"
      ],
      "metadata": {
        "id": "4iLvAKUBL8ru"
      },
      "execution_count": null,
      "outputs": []
    },
    {
      "cell_type": "markdown",
      "source": [
        "**№1**\n",
        "\n",
        "Дана целочисленная матрица A (квадратная таблица) размерностью N×N. Вывести максимальный элемент каждой строки матрицы."
      ],
      "metadata": {
        "id": "7BrEKWCmL04H"
      }
    },
    {
      "cell_type": "code",
      "source": [
        "N = int(input())\n",
        "A = np.array([[int(x) for x in input().split()] for i in range(N)])\n",
        "\n",
        "print()\n",
        "print(' '.join(map(str, np.array([np.max(A[i]) for i in range(N)]))))"
      ],
      "metadata": {
        "id": "T4lY0PEOq6Dg",
        "colab": {
          "base_uri": "https://localhost:8080/"
        },
        "outputId": "1016ecbc-f7bb-447a-db95-ebc0818f29cc"
      },
      "execution_count": null,
      "outputs": [
        {
          "output_type": "stream",
          "name": "stdout",
          "text": [
            "3\n",
            "1 2 3\n",
            "4 5 6\n",
            "7 8 9\n",
            "\n",
            "3 6 9\n"
          ]
        }
      ]
    },
    {
      "cell_type": "markdown",
      "source": [
        "**№2**\n",
        "\n",
        "Дана целочисленная матрица A (квадратная таблица) размерностью N×N. Вывести максимальный элемент каждого столбца."
      ],
      "metadata": {
        "id": "RqpiVMoqL-bu"
      }
    },
    {
      "cell_type": "code",
      "source": [
        "N = int(input())\n",
        "A = np.array([[int(x) for x in input().split()] for i in range(N)])\n",
        "\n",
        "print()\n",
        "print(' '.join(map(str, np.max(A, axis=0))))"
      ],
      "metadata": {
        "colab": {
          "base_uri": "https://localhost:8080/"
        },
        "id": "qdyWjaIXOzBc",
        "outputId": "4ebceabf-f7d9-4486-cab7-ef7e7176e6e1"
      },
      "execution_count": null,
      "outputs": [
        {
          "output_type": "stream",
          "name": "stdout",
          "text": [
            "3\n",
            "1 2 3\n",
            "4 5 6\n",
            "7 8 9\n",
            "\n",
            "7 8 9\n"
          ]
        }
      ]
    },
    {
      "cell_type": "markdown",
      "source": [
        "**№3**\n",
        "\n",
        "Дана целочисленная матрица A (квадратная таблица) размерностью N×N. Вывести элементы главной диагонали."
      ],
      "metadata": {
        "id": "FZ-_2ghEMRWo"
      }
    },
    {
      "cell_type": "code",
      "source": [
        "N = int(input())\n",
        "A = np.array([[int(x) for x in input().split()] for i in range(N)])\n",
        "\n",
        "print()\n",
        "print(' '.join(map(str, np.diagonal(A))))"
      ],
      "metadata": {
        "colab": {
          "base_uri": "https://localhost:8080/"
        },
        "id": "wydOnvdTRpg0",
        "outputId": "80090329-a2fd-4450-88cd-141f8705ee4b"
      },
      "execution_count": null,
      "outputs": [
        {
          "output_type": "stream",
          "name": "stdout",
          "text": [
            "3\n",
            "1 0 0\n",
            "0 1 0\n",
            "0 0 1\n",
            "\n",
            "1 1 1\n"
          ]
        }
      ]
    },
    {
      "cell_type": "markdown",
      "source": [
        "**№4**\n",
        "\n",
        "Дана целочисленная матрица A (квадратная таблица) размерностью N×N. Вывести элементы побочной диагонали"
      ],
      "metadata": {
        "id": "LOZZEBzGMYbY"
      }
    },
    {
      "cell_type": "code",
      "source": [
        "N = int(input())\n",
        "A = np.array([[int(x) for x in input().split()] for i in range(N)])\n",
        "\n",
        "print()\n",
        "print(' '.join(map(str, np.diag(np.fliplr(A))))) "
      ],
      "metadata": {
        "colab": {
          "base_uri": "https://localhost:8080/"
        },
        "id": "Ns2NowOUSdyA",
        "outputId": "dea5f136-5199-4bb6-c096-a4f69d139876"
      },
      "execution_count": null,
      "outputs": [
        {
          "output_type": "stream",
          "name": "stdout",
          "text": [
            "3\n",
            "0 0 1\n",
            "0 1 0\n",
            "1 0 0\n",
            "\n",
            "1 1 1\n"
          ]
        }
      ]
    },
    {
      "cell_type": "markdown",
      "source": [
        "**№5**\n",
        "\n",
        "Дана матрица A. Вычислите ее определитель."
      ],
      "metadata": {
        "id": "M8-UY72vMgYc"
      }
    },
    {
      "cell_type": "code",
      "source": [
        "n = int(input())\n",
        "A = np.array([[float(x) for x in input().split()] for i in range(n)])\n",
        "\n",
        "print()\n",
        "print(f'{np.linalg.det(A):.6f}')"
      ],
      "metadata": {
        "colab": {
          "base_uri": "https://localhost:8080/"
        },
        "id": "7lmqxzSsS9h9",
        "outputId": "413d23c6-5212-4b35-ee29-de91613d7341"
      },
      "execution_count": null,
      "outputs": [
        {
          "output_type": "stream",
          "name": "stdout",
          "text": [
            "2\n",
            "1 1\n",
            "1 -0.5\n",
            "\n",
            "-1.500000\n"
          ]
        }
      ]
    },
    {
      "cell_type": "markdown",
      "source": [
        "**№6**\n",
        "\n",
        "Дана обратимая матрица A. Найдите обратную матрицу."
      ],
      "metadata": {
        "id": "Q4k3OzaoMr-J"
      }
    },
    {
      "cell_type": "code",
      "source": [
        "n = int(input())\n",
        "A = np.array([[float(x) for x in input().split()] for i in range(n)])\n",
        "A_ = np.linalg.inv(A)\n",
        "\n",
        "print()\n",
        "for i in range(n):\n",
        "    print(' '. join(map(str, [f'{x:.6f}' for x in A_[i]])))"
      ],
      "metadata": {
        "colab": {
          "base_uri": "https://localhost:8080/"
        },
        "id": "U1K3jhU7VClc",
        "outputId": "05a39adb-4213-4bd5-bf41-cdb11a9661d3"
      },
      "execution_count": null,
      "outputs": [
        {
          "output_type": "stream",
          "name": "stdout",
          "text": [
            "2\n",
            "1 1\n",
            "1 -1.5\n",
            "\n",
            "0.600000 0.400000\n",
            "0.400000 -0.400000\n"
          ]
        }
      ]
    }
  ]
}
